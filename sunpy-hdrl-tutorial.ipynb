{
 "cells": [
  {
   "cell_type": "markdown",
   "id": "ae706e18-ea9e-4378-ba0f-09a57d999126",
   "metadata": {},
   "source": [
    "# Analyzing Multi-instrument Remote Sensing and *in situ* Observations of the 24 March 2023 Event with the SunPy Ecosystem\n",
    "\n",
    "![sunpy logo](images/sunpy_logo_landscape.png)\n",
    "\n",
    "## HDRL Virtual User Workshop 2024\n",
    "\n",
    "### *Will Barnes* (AU/NASA GSFC) *on behalf of the SunPy Community*\n",
    "\n",
    "### *with many thanks to: Nabil Freij, Albert Shih, Laura Hayes, and Stuart Mumford*"
   ]
  },
  {
   "cell_type": "code",
   "execution_count": null,
   "id": "1f432881-8f42-4e52-9baa-cac48f12d7c4",
   "metadata": {},
   "outputs": [],
   "source": [
    "import pathlib\n",
    "from IPython.display import HTML\n",
    "import matplotlib.pyplot as plt\n",
    "import numpy as np\n",
    "import astropy.units as u\n",
    "\n",
    "from matplotlib.colors import LogNorm, SymLogNorm\n",
    "from astropy.visualization import time_support, quantity_support, ImageNormalize, AsinhStretch, PowerStretch\n",
    "\n",
    "import sunpy\n",
    "sunpy.log.setLevel('ERROR')\n",
    "\n",
    "DATA_DIR = pathlib.Path('./')"
   ]
  },
  {
   "cell_type": "markdown",
   "id": "9cded155-14dc-4cae-9035-df30379657ca",
   "metadata": {},
   "source": [
    "In this notebook, we will be using `sunpy`, as well as several [SunPy Affiliated Packages](https://sunpy.org/affiliated/), to examine the *in situ* and remote sensing observations of the origin of a solar storm that arrived at Earth on 24 March 2023.\n",
    "\n",
    "In this notebook, we will learn how to:\n",
    "\n",
    "- Search for and download *in situ* and remote sensing data with `sunpy`\n",
    "- Crop and remap solar image data using `sunpy.map.Map` objects\n",
    "- Analyze time series data using `sunpy.timeseries.TimeSeries` objects\n",
    "- Create movies from sequences of images using `sunpy.map.MapSequence`\n",
    "\n",
    "By the end of this notebook, you will understand how to use the SunPy ecosystem to analyze solar observations both on the solar disk and out into the solar wind."
   ]
  },
  {
   "cell_type": "markdown",
   "id": "942257e8-2828-4547-8d17-aabc3bdb4806",
   "metadata": {},
   "source": [
    "## When did the CME happen?"
   ]
  },
  {
   "cell_type": "markdown",
   "id": "e48bce73-26a5-4908-9fdc-7aeaa0ee53f3",
   "metadata": {},
   "source": [
    "Using the arrival time of the event at Earth, we can get a rough estimate of when the event occured. Let's search for LASCO data during this interval to see if we can see the eruption of the CME. LASCO, or the Large Angle and Spectrometric Coronagraph Experiment, is a coronagraph instrument on the SOHO spacecraft."
   ]
  },
  {
   "cell_type": "markdown",
   "id": "cf7d3fb4-d3e5-4b55-b02f-4a66f8496e34",
   "metadata": {},
   "source": [
    "To do this we'll use the `Fido` search interface provided in `sunpy`. We'll designate the time interval of our search using the `Time` object provided by `astropy`. We'll continue to reuse this interval throughout this tutorial."
   ]
  },
  {
   "cell_type": "code",
   "execution_count": null,
   "id": "91bd38d7-c3b7-4224-9786-5c65d22a15bb",
   "metadata": {},
   "outputs": [],
   "source": [
    "import astropy.time"
   ]
  },
  {
   "cell_type": "code",
   "execution_count": null,
   "id": "76d12b26-d211-458d-94f3-f44f094fc067",
   "metadata": {},
   "outputs": [],
   "source": [
    "time_event_start = astropy.time.Time('2023-03-20 13:00:00')\n",
    "time_event_end = astropy.time.Time('2023-03-20 19:00:00')"
   ]
  },
  {
   "cell_type": "markdown",
   "id": "4bf68791-a1f0-4e8f-93d1-9e9a4e122eb7",
   "metadata": {},
   "source": [
    "<div class=\"alert alert-block alert-danger\">\n",
    "\n",
    "**Instructor Note:** show formats and arithmetic\n",
    "\n",
    "</div>"
   ]
  },
  {
   "cell_type": "code",
   "execution_count": null,
   "id": "6542f135-fb4d-4813-ad65-abacee3bd238",
   "metadata": {},
   "outputs": [],
   "source": [
    "from sunpy.net import Fido, attrs as a"
   ]
  },
  {
   "cell_type": "markdown",
   "id": "26a4327b-0dbb-4f08-9a0c-7ca8ee6335fe",
   "metadata": {},
   "source": [
    "<div class=\"alert alert-block alert-success\">\n",
    "    \n",
    "### ASIDE: The `Fido` Unified Downloader\n",
    "\n",
    "* Unified interface for searching and fetching data\n",
    "* Interface independent of underlying client or web service from where the data is obtained.\n",
    "* Search accross multiple instruments and all available data providers in a single query.\n",
    "* Intuitive, consistent and *extendable* way to get most forms of solar physics data the community need \n",
    "\n",
    "`Fido` currently offers access to data from:\n",
    "\n",
    "* **Virtual Solar Observatory (VSO)**\n",
    "* **Joint Science Operations Center (JSOC)**\n",
    "* **Individual data providers** from web accessible sources (http, ftp, etc)\n",
    "* **Heliophysics Events Knowledgebase (HEK)**\n",
    "* **Heliophysics Feature Catalogue (HELIO)**\n",
    "* Other sources via a plugin system\n",
    " \n",
    "As described here Fido provides access to many sources of data through different `clients`, these clients can be defined inside sunpy or in other packages.\n",
    "</div>"
   ]
  },
  {
   "cell_type": "code",
   "execution_count": null,
   "id": "a300b4cc-0810-4e06-b70e-b222277a2f55",
   "metadata": {},
   "outputs": [],
   "source": [
    "q_lasco = Fido.search(a.Time(time_event_start, end=time_event_end),\n",
    "                      a.Instrument.lasco,\n",
    "                      a.Detector.c2)"
   ]
  },
  {
   "cell_type": "markdown",
   "id": "e6def2b7-9c87-4c42-8b29-6d1f3eca74e5",
   "metadata": {},
   "source": [
    "The cadence of the LASCO data is relatively low so let's go ahead and download every LASCO C2 file in this interval."
   ]
  },
  {
   "cell_type": "code",
   "execution_count": null,
   "id": "7d381667-080a-4507-8253-53c8c9ad6c35",
   "metadata": {},
   "outputs": [],
   "source": [
    "files_lasco = Fido.fetch(q_lasco, path='data/{instrument}')"
   ]
  },
  {
   "cell_type": "markdown",
   "id": "a9341a03-a616-4b67-a440-fd076d22f9b2",
   "metadata": {},
   "source": [
    "We can then load every file into a `Map` and create a `MapSequence`. `MapSequence` objects are used for storing `Map`s at subsequent time steps and are useful primarily for visualizing our 2D observations as a function of time. We'll talk more about `Map` objects later on in the tutorial."
   ]
  },
  {
   "cell_type": "code",
   "execution_count": null,
   "id": "8c8cf7d9-9e27-4646-9de7-f726ccc173c1",
   "metadata": {},
   "outputs": [],
   "source": [
    "import sunpy.map"
   ]
  },
  {
   "cell_type": "code",
   "execution_count": null,
   "id": "5dbbab5a-493c-44a5-b316-9a86673c69bf",
   "metadata": {},
   "outputs": [],
   "source": [
    "m_lasco = sunpy.map.Map(DATA_DIR / 'data' / 'LASCO', sequence=True)"
   ]
  },
  {
   "cell_type": "markdown",
   "id": "c2274123-f1fd-4713-8651-00995a9beec5",
   "metadata": {},
   "source": [
    "Let's also divide out the exposure time of each frame so that this does not influence the amount of emission per frame."
   ]
  },
  {
   "cell_type": "code",
   "execution_count": null,
   "id": "7bfa0a2c-43b1-49ea-9b4d-fb1ef982abcf",
   "metadata": {},
   "outputs": [],
   "source": [
    "m_lasco = sunpy.map.Map([m/m.exposure_time for m in m_lasco], sequence=True)"
   ]
  },
  {
   "cell_type": "markdown",
   "id": "b2e8dd1f-16ae-4607-bf13-ebac314a1b4f",
   "metadata": {},
   "source": [
    "Visualizing one of the `Map` objects in our stack about halfway through our interval, we can see some very faint structures off of the limb."
   ]
  },
  {
   "cell_type": "code",
   "execution_count": null,
   "id": "68201401-b237-4725-a801-111095d1103c",
   "metadata": {},
   "outputs": [],
   "source": [
    "m_lasco[10].peek()"
   ]
  },
  {
   "cell_type": "markdown",
   "id": "6605e40f-4029-4f7b-931d-ed14e978d563",
   "metadata": {},
   "source": [
    "To bring out the structure of the CME, we can compute a running difference movie from our stack of images."
   ]
  },
  {
   "cell_type": "code",
   "execution_count": null,
   "id": "fa670f14-7741-4308-8a8f-108df32c7611",
   "metadata": {},
   "outputs": [],
   "source": [
    "m_lasco_running = sunpy.map.Map(\n",
    "    [m - prev_m.quantity for m, prev_m in zip(m_lasco[1:], m_lasco[:-1])],\n",
    "    sequence=True\n",
    ")"
   ]
  },
  {
   "cell_type": "code",
   "execution_count": null,
   "id": "da4857fc-cbdf-4218-b6e8-65f47dca7a3c",
   "metadata": {},
   "outputs": [],
   "source": [
    "ani = m_lasco_running.plot(norm=ImageNormalize(vmin=-5,vmax=5), cmap='Greys_r')"
   ]
  },
  {
   "cell_type": "code",
   "execution_count": null,
   "id": "907c4357-dedd-483d-b6a9-cdaa70c507c9",
   "metadata": {},
   "outputs": [],
   "source": [
    "HTML(ani.to_jshtml())"
   ]
  },
  {
   "cell_type": "markdown",
   "id": "005a4b33-814a-4499-8255-3cf2beff9a40",
   "metadata": {},
   "source": [
    "## When did the corresponding flare *actually* start?"
   ]
  },
  {
   "cell_type": "markdown",
   "id": "f7360c1b-fdec-40fc-8ed8-07fbf07e7b01",
   "metadata": {},
   "source": [
    "We've now confirmed that the eruption occurred within the expected time interval. Our next question is when did this event kick off on the Sun?\n",
    "\n",
    "To answer this, we can first search for data from the GOES XRS instrument. The GOES XRS instrument gives us the disk-integrated *soft x-ray* time series in two different energy channels. This provides an indication of when the flare started.\n",
    "\n",
    "We can again use `Fido` and our selected time interval to search for and download GOES XRS data."
   ]
  },
  {
   "cell_type": "code",
   "execution_count": null,
   "id": "84c949ae-0f32-4234-a45d-39bdf15546a4",
   "metadata": {},
   "outputs": [],
   "source": [
    "q_goes = Fido.search(a.Time(time_event_start, time_event_end),\n",
    "                     a.Instrument.xrs,\n",
    "                     a.goes.SatelliteNumber(18),\n",
    "                     a.Resolution('flx1s'))"
   ]
  },
  {
   "cell_type": "code",
   "execution_count": null,
   "id": "f02a1f71-cf56-43e4-ae82-947972230b9e",
   "metadata": {},
   "outputs": [],
   "source": [
    "file_goes = Fido.fetch(q_goes, path='data/{instrument}/{file}')"
   ]
  },
  {
   "cell_type": "markdown",
   "id": "1d914a84-3c94-486a-acd0-73c3825ef7eb",
   "metadata": {},
   "source": [
    "Now, that we've downloaded the necessary GOES XRS files, we can load them into a `TimeSeries` object and visualize the resulting lightcurve. Recall that we learned the basics of creating and visualizing a `TimeSeries` object on Monday."
   ]
  },
  {
   "cell_type": "code",
   "execution_count": null,
   "id": "e9691ffb-06fa-47e3-9496-25d907c23423",
   "metadata": {},
   "outputs": [],
   "source": [
    "import sunpy.timeseries"
   ]
  },
  {
   "cell_type": "markdown",
   "id": "658a2b4a-3167-4654-a5cf-534e263a0745",
   "metadata": {},
   "source": [
    "<div class=\"alert alert-block alert-success\">\n",
    "    \n",
    "### ASIDE: The `TimeSeries` object\n",
    "\n",
    "</div>"
   ]
  },
  {
   "cell_type": "code",
   "execution_count": null,
   "id": "0b39c373-ddd0-4474-bf18-68985177a9c0",
   "metadata": {},
   "outputs": [],
   "source": [
    "ts_goes = sunpy.timeseries.TimeSeries(DATA_DIR / 'data' / 'XRS', concatenate=True)"
   ]
  },
  {
   "cell_type": "code",
   "execution_count": null,
   "id": "ae52f367-e356-4f40-aa6e-dd9790c2b97c",
   "metadata": {},
   "outputs": [],
   "source": [
    "ts_goes.peek()"
   ]
  },
  {
   "cell_type": "markdown",
   "id": "77dd626f-3f38-4d33-a618-fd3e6ebf0bcb",
   "metadata": {},
   "source": [
    "Because of the way GOES XRS data is packaged, our time series covers the whole day which clearly includes many other events. Let's use the `truncate` method to zoom in on our just the interval we are interested in."
   ]
  },
  {
   "cell_type": "code",
   "execution_count": null,
   "id": "23d1ab48-fd6c-4fdb-ac87-fe0a46bf5b0a",
   "metadata": {},
   "outputs": [],
   "source": [
    "from sunpy.time import TimeRange"
   ]
  },
  {
   "cell_type": "code",
   "execution_count": null,
   "id": "2d49982a-15ec-4153-9cbd-07526ab154ba",
   "metadata": {},
   "outputs": [],
   "source": [
    "ts_goes_flare = ts_goes.truncate(TimeRange(time_event_start, b=time_event_end))"
   ]
  },
  {
   "cell_type": "markdown",
   "id": "9d1e11f7-ea08-4f7f-9331-77631d92f112",
   "metadata": {},
   "source": [
    "Note that our resulting light curve for just the event of interest has a shape very characteristic of a medium-sized flare."
   ]
  },
  {
   "cell_type": "code",
   "execution_count": null,
   "id": "7422277e-f152-41d9-a353-72ed22286ccf",
   "metadata": {},
   "outputs": [],
   "source": [
    "plt.figure(figsize=(12,4))\n",
    "with quantity_support():\n",
    "    with time_support(simplify=True):\n",
    "        plt.plot(ts_goes_flare.time, ts_goes_flare.quantity('xrsb'), color='red')\n",
    "plt.show()"
   ]
  },
  {
   "cell_type": "markdown",
   "id": "b61407a9-1690-4530-a6f5-73f5938ec146",
   "metadata": {},
   "source": [
    "Let's define the peak time of our event using the maximum of the emission in this lower energy channel of GOES XRS. We'll refer to this as the peak time of the flare."
   ]
  },
  {
   "cell_type": "code",
   "execution_count": null,
   "id": "c5002b81-10ec-4348-a5bf-18bdaf59ddba",
   "metadata": {},
   "outputs": [],
   "source": [
    "time_peak = ts_goes_flare.time[ts_goes_flare.quantity('xrsb').argmax()]"
   ]
  },
  {
   "cell_type": "code",
   "execution_count": null,
   "id": "c4998777-96c1-4d51-8783-0bdb512dc52f",
   "metadata": {},
   "outputs": [],
   "source": [
    "time_peak"
   ]
  },
  {
   "cell_type": "markdown",
   "id": "f8c13767-cc13-4aeb-8d55-55f8b74b8c0b",
   "metadata": {},
   "source": [
    "## Where did this event come from?"
   ]
  },
  {
   "cell_type": "markdown",
   "id": "159786b8-da46-47d2-b60a-49a712c09215",
   "metadata": {},
   "source": [
    "Now that we know when the flare started, we need to know from where on the solar disk it came. Our coronagraph images obscure the solar disk and the aforementioned XRS time series are integrated over the whole disk. Fortunately, we have a suite of EUV imaging instruments pointed at the Sun that can help us answer this question."
   ]
  },
  {
   "cell_type": "markdown",
   "id": "70164d93-3c9a-49f4-8368-66a75abb157d",
   "metadata": {},
   "source": [
    "Let's first find out where several of these instruments were. `solarmach`, a SunPy-affiliated package, makes this easy to do."
   ]
  },
  {
   "cell_type": "code",
   "execution_count": null,
   "id": "729770ff-5d72-43a7-ae14-a3804b82ecc7",
   "metadata": {},
   "outputs": [],
   "source": [
    "import solarmach"
   ]
  },
  {
   "cell_type": "code",
   "execution_count": null,
   "id": "b2fdafe1-4eee-4b32-91e9-b23e56c35063",
   "metadata": {},
   "outputs": [],
   "source": [
    "spacecraft = [\n",
    "    'SDO',\n",
    "    'PSP',\n",
    "    'Solar Orbiter',\n",
    "    'SOHO'\n",
    "]"
   ]
  },
  {
   "cell_type": "code",
   "execution_count": null,
   "id": "2175280a-1b95-4280-9aab-09e07ecc1c79",
   "metadata": {},
   "outputs": [],
   "source": [
    "smach = solarmach.SolarMACH(time_peak, spacecraft, vsw_list=[400]*len(spacecraft))"
   ]
  },
  {
   "cell_type": "code",
   "execution_count": null,
   "id": "1dd8c783-4348-4196-bb08-4188d2cff610",
   "metadata": {},
   "outputs": [],
   "source": [
    "smach.plot(figsize=(6.5,6.5), plot_sun_body_line=True)"
   ]
  },
  {
   "cell_type": "markdown",
   "id": "2c055950-4783-4bc5-bec7-0768d0d6706f",
   "metadata": {},
   "source": [
    "We can see that *Solar Orbiter* and SDO are in a favorable configuration to view the Sun from different vantage points, providing us a multi-perspective view of the solar disk around the time when the flare went off. Notice that *Solar Orbiter* is slightly off the Sun-Earth line, meaning it provides an additional constraint from different viewing angle on the flare and eruption.\n",
    "\n",
    "Let's first look at the HXR and SXR flux as measured by the STIX instrument on *Solar Orbiter*. STIX data is not currently provided by any of the data providers that `Fido` searches by default. However, we can use the `stixpy` package to tell `Fido` to also search the STIX data center when looking for data."
   ]
  },
  {
   "cell_type": "code",
   "execution_count": null,
   "id": "8fa43889-0435-4866-96f8-2c27d4b207ac",
   "metadata": {},
   "outputs": [],
   "source": [
    "from stixpy.net.client import STIXClient"
   ]
  },
  {
   "cell_type": "code",
   "execution_count": null,
   "id": "d887543e-29be-4c31-89a8-8ae9d80114b3",
   "metadata": {},
   "outputs": [],
   "source": [
    "q_stix = Fido.search(a.Time(time_event_start, time_event_end),\n",
    "                     a.Instrument.stix,\n",
    "                     a.stix.DataProduct.ql_lightcurve)"
   ]
  },
  {
   "cell_type": "code",
   "execution_count": null,
   "id": "274b7858-8b26-4b9e-8ff8-65fa5d0fc8b4",
   "metadata": {},
   "outputs": [],
   "source": [
    "q_stix"
   ]
  },
  {
   "cell_type": "code",
   "execution_count": null,
   "id": "af512634-cd12-4fbc-8fe7-dcfbadb1ed07",
   "metadata": {},
   "outputs": [],
   "source": [
    "file_stix = Fido.fetch(q_stix, path='data/{instrument}/{file}')"
   ]
  },
  {
   "cell_type": "markdown",
   "id": "37e4db05-386b-487b-b775-620d4fb59347",
   "metadata": {},
   "source": [
    "After downloading our STIX data, we can then visualize these lightcurves in the exact same manner as we did with our XRS data. Again, we note that `sunpy` does not support STIX data by default, but by using `stixpy`, we can tell `TimeSeries` how to load this data and parse the accompanying metadata. "
   ]
  },
  {
   "cell_type": "code",
   "execution_count": null,
   "id": "c54f347a-0460-437a-a8b3-a4a3ffc4d982",
   "metadata": {},
   "outputs": [],
   "source": [
    "from stixpy.timeseries import quicklook"
   ]
  },
  {
   "cell_type": "code",
   "execution_count": null,
   "id": "3f62b5ce-1615-420f-b3c8-9f75349927eb",
   "metadata": {},
   "outputs": [],
   "source": [
    "ts_stix = sunpy.timeseries.TimeSeries(DATA_DIR / 'data' / 'STIX', concatenate=True)"
   ]
  },
  {
   "cell_type": "code",
   "execution_count": null,
   "id": "c7f5cc71-3f63-42ae-a3dd-29cb090026c1",
   "metadata": {},
   "outputs": [],
   "source": [
    "ts_stix.peek()"
   ]
  },
  {
   "cell_type": "markdown",
   "id": "66c2ec13-1759-4ac2-a370-d157ba8f63e4",
   "metadata": {},
   "source": [
    "As before, let's truncate our lightcurve to the interval of interest."
   ]
  },
  {
   "cell_type": "code",
   "execution_count": null,
   "id": "21a99f95-72eb-46b9-863f-5167b968a539",
   "metadata": {},
   "outputs": [],
   "source": [
    "ts_stix_flare = ts_stix.truncate(TimeRange(time_event_start, b=time_event_end))"
   ]
  },
  {
   "cell_type": "markdown",
   "id": "f59831d5-674c-419f-baef-d43ab596b67e",
   "metadata": {},
   "source": [
    "We can overplot our STIX data on top of our GOES light"
   ]
  },
  {
   "cell_type": "code",
   "execution_count": null,
   "id": "08f064f1-6f7d-473f-81ad-714128873e0b",
   "metadata": {},
   "outputs": [],
   "source": [
    "fig = plt.figure(figsize=(12,4))\n",
    "ax_stix = fig.add_subplot()\n",
    "ax_stix.set_ylabel(f'STIX Intensity [{ts_stix_flare.units[\"4-10 keV\"]:latex_inline}]')\n",
    "ax_goes = ax_stix.twinx()\n",
    "ax_goes.set_ylabel(f'STIX Intensity [{ts_goes_flare.units[\"xrsb\"]:latex_inline}]')\n",
    "with time_support(simplify=True):\n",
    "    l1, = ax_stix.plot(ts_stix_flare.time, ts_stix_flare.quantity('4-10 keV'), label='STIX, 4-10 keV')\n",
    "    l2, = ax_stix.plot(ts_stix_flare.time, ts_stix_flare.quantity('10-15 keV'), color='C1', label='STIX, 10-15 keV')\n",
    "    l3, = ax_goes.plot(ts_goes_flare.time, ts_goes_flare.quantity('xrsb'),color='red', label='XRS, 1-8 Å')\n",
    "ax_stix.set_yscale('log')\n",
    "ax_goes.set_yscale('log')\n",
    "ax_stix.legend([l1,l2,l3], [l.get_label() for l in [l1,l2,l3]], loc=2, frameon=False)\n",
    "plt.show()"
   ]
  },
  {
   "cell_type": "markdown",
   "id": "130a57a5-db4d-4580-b351-1d516f6afd85",
   "metadata": {},
   "source": [
    "Note that these curves do *appear* to be correlated, but there is a clear offset between the two of them. **Why is that?**"
   ]
  },
  {
   "cell_type": "markdown",
   "id": "4b1bec13-bf17-4ed3-8d7a-0aa657adf55a",
   "metadata": {},
   "source": [
    "Recall from our spacecraft position plot above that *Solar Orbiter* is much closer to the Sun than the Earth (GOES is in a goestationary orbit)."
   ]
  },
  {
   "cell_type": "code",
   "execution_count": null,
   "id": "185d4a4f-be86-4779-ab8e-1cbfa5600478",
   "metadata": {},
   "outputs": [],
   "source": [
    "from sunpy.coordinates import get_horizons_coord, get_earth"
   ]
  },
  {
   "cell_type": "code",
   "execution_count": null,
   "id": "a5d3e89e-7a87-450f-8022-5efaafd71354",
   "metadata": {},
   "outputs": [],
   "source": [
    "earth_loc = get_earth(time_event_start)\n",
    "solo_loc = get_horizons_coord('SolO', time=time_event_start)"
   ]
  },
  {
   "cell_type": "markdown",
   "id": "ef03da5d-f731-40c5-b61a-1c722d1de33f",
   "metadata": {},
   "source": [
    "As such emission from the Sun arrives at *Solar Orbiter* sooner than it does at GOES XRS. We can easily approximate this light travel time correction using the two spacecraft positions."
   ]
  },
  {
   "cell_type": "code",
   "execution_count": null,
   "id": "76408987-7373-4025-ba0e-6e7ec4240ca4",
   "metadata": {},
   "outputs": [],
   "source": [
    "import astropy.constants as const"
   ]
  },
  {
   "cell_type": "code",
   "execution_count": null,
   "id": "eace4de4-ef99-4f45-b76d-f2313712fb50",
   "metadata": {},
   "outputs": [],
   "source": [
    "light_travel_time = ((earth_loc.radius - solo_loc.radius) / const.c).to('s')"
   ]
  },
  {
   "cell_type": "code",
   "execution_count": null,
   "id": "220b66de-befc-4b9c-af6e-c2c900daf0bf",
   "metadata": {},
   "outputs": [],
   "source": [
    "fig = plt.figure(figsize=(12,4))\n",
    "ax_stix = fig.add_subplot()\n",
    "ax_stix.set_ylabel(f'STIX Intensity [{ts_stix_flare.units[\"4-10 keV\"]:latex_inline}]')\n",
    "ax_goes = ax_stix.twinx()\n",
    "ax_goes.set_ylabel(f'STIX Intensity [{ts_goes_flare.units[\"xrsb\"]:latex_inline}]')\n",
    "with time_support(simplify=True):\n",
    "    l1, = ax_stix.plot(ts_stix_flare.time, ts_stix_flare.quantity('4-10 keV'), label='STIX, 4-10 keV')\n",
    "    l2, = ax_stix.plot(ts_stix_flare.time, ts_stix_flare.quantity('10-15 keV'), color='C1', label='STIX, 10-15 keV')\n",
    "    l3, = ax_goes.plot(ts_goes_flare.time-light_travel_time, ts_goes_flare.quantity('xrsb'), color='red', label='XRS, 1-8 Å')\n",
    "ax_stix.set_yscale('log')\n",
    "ax_goes.set_yscale('log')\n",
    "ax_stix.legend([l1,l2,l3], [l.get_label() for l in [l1,l2,l3]], loc=2, frameon=False)\n",
    "plt.show()"
   ]
  },
  {
   "cell_type": "markdown",
   "id": "862ea813-1495-4a6a-ba08-7d43f38fd037",
   "metadata": {},
   "source": [
    "Notice that the GOES XRS and STIX 4-10 keV light curve are highly correlated, strongly suggesting to us that both GOES and *Solar Orbiter* **are observing the same event.**"
   ]
  },
  {
   "cell_type": "markdown",
   "id": "28a6e002-b173-47d1-bd58-7d1fd6064068",
   "metadata": {},
   "source": [
    "### EUV Images\n",
    "\n",
    "Now, let's use EUV images from *Solar Orbiter* and SDO/AIA to understand the source location of this flare. We can again use `Fido` to query data from both instruments simultaneously during this time window."
   ]
  },
  {
   "cell_type": "code",
   "execution_count": null,
   "id": "29f57fd9-1853-4302-8547-4295de98a424",
   "metadata": {},
   "outputs": [],
   "source": [
    "time_window = a.Time(time_event_start, end=time_event_end, near=time_peak)\n",
    "euv_aia = a.Instrument.aia & a.Wavelength(304*u.AA)"
   ]
  },
  {
   "cell_type": "markdown",
   "id": "006cd09c-fb08-4c38-aa98-650fcbcb0e63",
   "metadata": {},
   "source": [
    "Similar to the STIX data, `Fido` does not search the Solar Orbiter Archive (SOAR) by default. However, we can use the `sunpy_soar` package to *extend* `Fido` to also include this data source."
   ]
  },
  {
   "cell_type": "code",
   "execution_count": null,
   "id": "8d381676-bbd3-4d56-9c75-5ce25a2badfd",
   "metadata": {},
   "outputs": [],
   "source": [
    "import sunpy_soar"
   ]
  },
  {
   "cell_type": "code",
   "execution_count": null,
   "id": "bb627694-844f-4ef1-9606-a509a2b1f226",
   "metadata": {},
   "outputs": [],
   "source": [
    "euv_solo = a.Level(2) & (a.soar.Product('eui-fsi174-image') | a.soar.Product('eui-fsi304-image'))"
   ]
  },
  {
   "cell_type": "markdown",
   "id": "a4da753d-cf51-42ff-a0bf-beb7432c93b0",
   "metadata": {},
   "source": [
    "The primary advantage of `Fido` is its ability to logically combine queries from different instruments in single search."
   ]
  },
  {
   "cell_type": "code",
   "execution_count": null,
   "id": "b4a32984-54aa-4059-80db-4009353283b4",
   "metadata": {},
   "outputs": [],
   "source": [
    "q_euv = Fido.search(time_window, euv_aia | euv_solo)"
   ]
  },
  {
   "cell_type": "code",
   "execution_count": null,
   "id": "317f28d4-81f5-4ccc-a340-11cb34f94802",
   "metadata": {},
   "outputs": [],
   "source": [
    "q_euv"
   ]
  },
  {
   "cell_type": "markdown",
   "id": "080d1bec-a242-4f86-9043-a75a6a4552ad",
   "metadata": {},
   "source": [
    "We will download only the first AIA image and only half of the EUI images from each wavelength."
   ]
  },
  {
   "cell_type": "code",
   "execution_count": null,
   "id": "33583953-4e2a-44e7-81ab-be2a3b2385ab",
   "metadata": {},
   "outputs": [],
   "source": [
    "files_euv = Fido.fetch(q_euv[:1], q_euv[1][::2], q_euv[2][::2], path='data/{instrument}/{file}')"
   ]
  },
  {
   "cell_type": "markdown",
   "id": "ac2215eb-7604-4d3c-b36f-140f555f29ce",
   "metadata": {},
   "source": [
    "Let's create a Map from our AIA image that was recorded near the peak of the flare."
   ]
  },
  {
   "cell_type": "code",
   "execution_count": null,
   "id": "4be0895a-b58a-462d-b90e-c1f20bbc0b99",
   "metadata": {},
   "outputs": [],
   "source": [
    "m_aia = sunpy.map.Map(DATA_DIR / 'data' / 'AIA' / 'aia_lev1_304a_2023_03_20t15_29_53_13z_image_lev1.fits')"
   ]
  },
  {
   "cell_type": "markdown",
   "id": "97ac1063-0a7a-47a7-a0d6-7843ab7d99d5",
   "metadata": {},
   "source": [
    "We'll also correct for the degradation in the 304 channel as this can be quite severe at this point in the instrument lifetime. We can do this using the `aiapy` package, a SunPy-affiliated package for performing analysis specific to the AIA instrument."
   ]
  },
  {
   "cell_type": "code",
   "execution_count": null,
   "id": "f0336b09-800c-457e-b065-3a6858880b47",
   "metadata": {},
   "outputs": [],
   "source": [
    "from aiapy.calibrate import correct_degradation"
   ]
  },
  {
   "cell_type": "code",
   "execution_count": null,
   "id": "a190fb49-7196-461b-84a5-b232fd1e7297",
   "metadata": {},
   "outputs": [],
   "source": [
    "m_aia = correct_degradation(m_aia)"
   ]
  },
  {
   "cell_type": "code",
   "execution_count": null,
   "id": "0b7905b6-26ae-4509-b07a-907e39931f6d",
   "metadata": {},
   "outputs": [],
   "source": [
    "m_aia.peek(clip_interval=(1,99.9)*u.percent)"
   ]
  },
  {
   "cell_type": "markdown",
   "id": "ecc3c474-f2b5-417f-8827-3ac48a3c8970",
   "metadata": {},
   "source": [
    "Let's zoom in on the part of the image where we think the flare is going off. We've manually identified this region by noting the flare \"ribbons\" present in our image. These features are bright in the 304 channel due to highly energetic particles impacting the cool, dense chromosphere and emitting in He II, effectively tracing out the footpoints of the structures of the flaring arcade.\n",
    "\n",
    "We can crop to this region by specifying our bounding box in terms of the physical or *world* coordinates in the coordinate frame of this particular image."
   ]
  },
  {
   "cell_type": "code",
   "execution_count": null,
   "id": "0ba92b8f-961d-4eab-882f-dc05d66f870f",
   "metadata": {},
   "outputs": [],
   "source": [
    "from astropy.coordinates import SkyCoord"
   ]
  },
  {
   "cell_type": "markdown",
   "id": "f70c9886-9fa7-452e-a78a-53fa54a97cf0",
   "metadata": {},
   "source": [
    "<div class=\"alert alert-block alert-success\">\n",
    "    \n",
    "### ASIDE: The `astropy.coordinates` Framework\n",
    "\n",
    "</div>"
   ]
  },
  {
   "cell_type": "code",
   "execution_count": null,
   "id": "05f0cb0b-efd8-4a0d-ad25-3d1daff2223e",
   "metadata": {},
   "outputs": [],
   "source": [
    "blc = SkyCoord(Tx=-550*u.arcsec, Ty=300*u.arcsec, frame=m_aia.coordinate_frame)\n",
    "width = 500*u.arcsec\n",
    "height = 400*u.arcsec\n",
    "m_aia_zoom = m_aia.submap(blc, width=width, height=height)"
   ]
  },
  {
   "cell_type": "code",
   "execution_count": null,
   "id": "b35893b1-b438-44f6-90f7-cd29ef31f981",
   "metadata": {},
   "outputs": [],
   "source": [
    "plt.figure(figsize=(11,5))\n",
    "plt.subplot(121,projection=m_aia)\n",
    "m_aia.plot()\n",
    "m_aia.draw_quadrangle(blc, width=width, height=height)\n",
    "plt.subplot(122,projection=m_aia_zoom)\n",
    "m_aia_zoom.plot()"
   ]
  },
  {
   "cell_type": "markdown",
   "id": "7464fa25-f172-4e9a-a133-c19d70e9f486",
   "metadata": {},
   "source": [
    "Now, let's load all of the images from the 174 and 304 channel of EUI, the extreme ultraviolet imager on *Solar Orbter*, into two `MapSequence` objects."
   ]
  },
  {
   "cell_type": "code",
   "execution_count": null,
   "id": "af67e6b2-a3b4-48b0-b98c-791304eb9936",
   "metadata": {},
   "outputs": [],
   "source": [
    "m_eui_174 = sunpy.map.Map(DATA_DIR / 'data/EUI/solo_L2_eui-fsi174-image_*.fits')\n",
    "m_eui_304 = sunpy.map.Map(DATA_DIR / 'data/EUI/solo_L2_eui-fsi304-image_*.fits')"
   ]
  },
  {
   "cell_type": "markdown",
   "id": "bd38ba5d-8da8-45ed-9d90-eb253718cf70",
   "metadata": {},
   "source": [
    "By using a \"glob\" pattern, we can load many FITS file into a list of maps. Let's take a look at just one of these."
   ]
  },
  {
   "cell_type": "code",
   "execution_count": null,
   "id": "440d68d0-d996-48ee-8e9e-d612f70dc738",
   "metadata": {},
   "outputs": [],
   "source": [
    "m_eui_304[18].peek()"
   ]
  },
  {
   "cell_type": "markdown",
   "id": "2bd9b135-66e5-4e6c-a246-1d587d8e6ee5",
   "metadata": {},
   "source": [
    "Note that the same two-ribbon structure is visible on the disk as expected given the relative perspectives of the two spacecraft.\n",
    "\n",
    "The field of view of the EUI Full Sun Imager (FSI) on *Solar Orbiter* is very wide. Let's crop our list of maps to the same field of view as our AIA images. Fortunately, we can reuse the bounding box for the flaring region we identifed above by using the coordinates of the bottom left and top right corners of our AIA map."
   ]
  },
  {
   "cell_type": "code",
   "execution_count": null,
   "id": "3905ebd9-1520-449a-8753-647dc1c4cfb8",
   "metadata": {},
   "outputs": [],
   "source": [
    "roi_blc = m_aia_zoom.bottom_left_coord\n",
    "roi_trc = m_aia_zoom.top_right_coord"
   ]
  },
  {
   "cell_type": "markdown",
   "id": "cbae3528-ac0e-44c4-96e1-56a12fa8f294",
   "metadata": {},
   "source": [
    "Additionally, because the length of our observing interval is 6 hours and the desired field of view is relatively small, we need to account for the rotation of the Sun relative to the position of our spacecraft. Otherwise, the feature of interest would rotate out of view. Fortunately, `sunpy` makes this relatively easy. through the [`propagate_with_solar_surface`](https://docs.sunpy.org/en/stable/generated/api/sunpy.coordinates.propagate_with_solar_surface.html) *context manager*. This allows us to account for the effect of differential rotation of the Sun when transforming between coordinate frames defined at different times."
   ]
  },
  {
   "cell_type": "code",
   "execution_count": null,
   "id": "b3a03c9a-a188-44cb-ad94-be6de72cf6b0",
   "metadata": {},
   "outputs": [],
   "source": [
    "from sunpy.coordinates import propagate_with_solar_surface"
   ]
  },
  {
   "cell_type": "code",
   "execution_count": null,
   "id": "8a53409a-e894-477e-a783-863f38ee5edd",
   "metadata": {},
   "outputs": [],
   "source": [
    "with propagate_with_solar_surface():\n",
    "    m_eui_304_zoom = []\n",
    "    for m in m_eui_304:\n",
    "        blc = roi_blc.transform_to(m.coordinate_frame)\n",
    "        trc = roi_trc.transform_to(m.coordinate_frame)\n",
    "        m_eui_304_zoom.append(m.submap(blc, top_right=trc))"
   ]
  },
  {
   "cell_type": "code",
   "execution_count": null,
   "id": "e22a4f95-a112-4cd0-8520-ed2722f09fb0",
   "metadata": {},
   "outputs": [],
   "source": [
    "m_eui_304_zoom = sunpy.map.Map(m_eui_304_zoom, sequence=True)"
   ]
  },
  {
   "cell_type": "markdown",
   "id": "08312cf2-053f-4549-96fa-f49bf28045fc",
   "metadata": {},
   "source": [
    "Let's apply this same procedure to the 174 maps as well. This time, we'll reduce the amount of code to do this by using a list comprehension and combining a few steps. The result will be the same as above though."
   ]
  },
  {
   "cell_type": "code",
   "execution_count": null,
   "id": "6ea039a6-76f6-4771-b0bc-3ec0d49cf9fc",
   "metadata": {},
   "outputs": [],
   "source": [
    "with propagate_with_solar_surface():\n",
    "    m_eui_174_zoom = sunpy.map.Map(\n",
    "        [m.submap(roi_blc.transform_to(m.coordinate_frame), top_right=roi_trc.transform_to(m.coordinate_frame)) for m in m_eui_174],\n",
    "        sequence=True,\n",
    "    )"
   ]
  },
  {
   "cell_type": "markdown",
   "id": "ef42c6e1-8a8c-444c-82ca-4541d4ce1633",
   "metadata": {},
   "source": [
    "Finally, let's make an animation of the flaring region as observed by EUI in the 304 and 174 channels."
   ]
  },
  {
   "cell_type": "code",
   "execution_count": null,
   "id": "204e763c-8a9a-4207-b56e-ee8d00c6f9a5",
   "metadata": {},
   "outputs": [],
   "source": [
    "ani_eui_304 = m_eui_304_zoom.plot(norm=ImageNormalize(vmin=0, vmax=5e3, stretch=AsinhStretch()))\n",
    "HTML(ani_eui_304.to_jshtml())"
   ]
  },
  {
   "cell_type": "markdown",
   "id": "b6315781-ca71-4456-9081-35744038d086",
   "metadata": {},
   "source": [
    "Notice that in the case of the 174 channel, the flare ribbons are much less prominent, while the post-flare arcade is much more visible. This is because this channel is much more sensitive to plasma around a 1 MK that fills the loops in the arcade during the later stage of the flare."
   ]
  },
  {
   "cell_type": "code",
   "execution_count": null,
   "id": "05f22694-eab7-4590-8d4d-e4e3f71ad0a5",
   "metadata": {},
   "outputs": [],
   "source": [
    "ani_eui_174 = m_eui_174_zoom.plot(norm=ImageNormalize(vmin=0,vmax=8e3,stretch=AsinhStretch()))\n",
    "HTML(ani_eui_174.to_jshtml())"
   ]
  },
  {
   "cell_type": "markdown",
   "id": "a2e7d65c-0918-494e-b0bf-ab5857afac3a",
   "metadata": {},
   "source": [
    "### Cross-correlating *Solar Orbiter* Data"
   ]
  },
  {
   "cell_type": "markdown",
   "id": "393c633d-b5e4-4312-8565-6dcb7c37304d",
   "metadata": {},
   "source": [
    "But does the emission within our selected region correspond to the event we are interested in? To answer this, we can examine the *correlation* between the emission in 174 and 304 channels of EUI and the HXR emission from STIX that we've already confirmed corresponds to our event.\n",
    "\n",
    "To do this, we'll use our stack of images in time that correspond to the flaring region to create a `TimeSeries` of all of our *Solar Orbiter* observations. We'll first average over the spatial extent of each 304 and 174 image and subtract an estimated background."
   ]
  },
  {
   "cell_type": "code",
   "execution_count": null,
   "id": "0944ffb3-4bd1-4f1b-87a9-6e473affd725",
   "metadata": {},
   "outputs": [],
   "source": [
    "time_eui_304 = astropy.time.Time([m.date for m in m_eui_304_zoom])\n",
    "ts_eui_304 = u.Quantity([m.data.mean() for m in m_eui_304_zoom], m_eui_304_zoom[0].unit)\n",
    "ts_eui_304 -= ts_eui_304.min()\n",
    "time_eui_174 = astropy.time.Time([m.date for m in m_eui_174_zoom])\n",
    "ts_eui_174 = u.Quantity([m.data.mean() for m in m_eui_174_zoom], m_eui_174_zoom[0].unit)\n",
    "ts_eui_174 -= ts_eui_174.min()"
   ]
  },
  {
   "cell_type": "markdown",
   "id": "0f21924b-8741-4e85-a2d3-d4c73d8777ce",
   "metadata": {},
   "source": [
    "We'll also background subtract our STIX lightcurve and normalize by the exposure time."
   ]
  },
  {
   "cell_type": "code",
   "execution_count": null,
   "id": "41d80ee8-a0b0-4880-bb88-a1d110f6396c",
   "metadata": {},
   "outputs": [],
   "source": [
    "ts_stix_410 = ts_stix_flare.quantity('4-10 keV') / (ts_stix_flare.meta.metas[0]['xposure'] * u.s)\n",
    "ts_stix_410 -= ts_stix_410[0]"
   ]
  },
  {
   "cell_type": "markdown",
   "id": "aa5e01cf-cdd2-411f-819c-c2b0d764dccd",
   "metadata": {},
   "source": [
    "Next, we'll interpolate each to a common time axis."
   ]
  },
  {
   "cell_type": "code",
   "execution_count": null,
   "id": "8dc39a5e-80a1-4969-9db5-fb424ca7f166",
   "metadata": {},
   "outputs": [],
   "source": [
    "t_common = np.arange(0, 6, (10*u.minute).to_value('h')) * u.h"
   ]
  },
  {
   "cell_type": "code",
   "execution_count": null,
   "id": "41e2e5cc-7a5b-43ac-8204-f1064e770e5b",
   "metadata": {},
   "outputs": [],
   "source": [
    "def interp_intensities(time_common, time, time_0, intensity):\n",
    "    time_norm = (time - time_0).to_value('s')\n",
    "    return np.interp(time_common.to_value('s'), time_norm, intensity.value) * intensity.unit"
   ]
  },
  {
   "cell_type": "markdown",
   "id": "89db2f81-0892-473a-bb30-397818e8d69b",
   "metadata": {},
   "source": [
    "We can then use a `pandas` to easily build our `TimeSeries` object from our `dict` of columns."
   ]
  },
  {
   "cell_type": "code",
   "execution_count": null,
   "id": "428e7160-2f42-4ff4-b0ad-f1505eb72cb2",
   "metadata": {},
   "outputs": [],
   "source": [
    "import pandas"
   ]
  },
  {
   "cell_type": "code",
   "execution_count": null,
   "id": "8df36091-c9a7-4af5-95d7-62d27f933160",
   "metadata": {},
   "outputs": [],
   "source": [
    "columns = {}\n",
    "columns['time'] = (time_eui_174[0] + t_common).datetime\n",
    "for time, intensity, name in [(time_eui_174, ts_eui_174, 'EUI 174 $\\mathrm{\\AA}$'),\n",
    "                              (time_eui_304, ts_eui_304, 'EUI 304 $\\mathrm{\\AA}$'),\n",
    "                              (ts_stix_flare.time, ts_stix_410, 'STIX 4-10 keV')]:\n",
    "    columns[name] = interp_intensities(t_common, time, time_eui_174[0], intensity)\n",
    "ts_solo = sunpy.timeseries.TimeSeries(pandas.DataFrame.from_dict(columns).set_index('time'))"
   ]
  },
  {
   "cell_type": "markdown",
   "id": "177bb9ac-a824-4416-afc5-74ceb37223ad",
   "metadata": {},
   "source": [
    "We can then visualize this dataset in the same we did with our XRS and STIX data."
   ]
  },
  {
   "cell_type": "code",
   "execution_count": null,
   "id": "693e6eae-8c43-47f8-a9d3-61f1c4705da4",
   "metadata": {},
   "outputs": [],
   "source": [
    "ts_solo.plot()"
   ]
  },
  {
   "cell_type": "markdown",
   "id": "dc6c6590-dcb4-4323-9d9e-a289cbbf722b",
   "metadata": {},
   "source": [
    "The `sunkit-image` package, another SunPy-affiliated package, includes functionality for computing cross-correlations for any data array that includes a time dimension. We can use this functionality to compute cross-correlation curves between pairs of our intensity curves from above."
   ]
  },
  {
   "cell_type": "code",
   "execution_count": null,
   "id": "2aab7383-2213-45eb-8bac-cb3d5f1a33c8",
   "metadata": {},
   "outputs": [],
   "source": [
    "from sunkit_image.time_lag import get_lags, cross_correlation"
   ]
  },
  {
   "cell_type": "markdown",
   "id": "33ef3845-159b-4413-9172-77a469732e06",
   "metadata": {},
   "source": [
    "We'll compute these cross-correlations as a function of the offset in time between each curve or the *time lag* between each curve."
   ]
  },
  {
   "cell_type": "code",
   "execution_count": null,
   "id": "eaad7551-240b-47ed-a189-e070be31428f",
   "metadata": {},
   "outputs": [],
   "source": [
    "lags = get_lags(t_common)"
   ]
  },
  {
   "cell_type": "code",
   "execution_count": null,
   "id": "123be982-8ea7-4625-b9b4-2d7660c61d51",
   "metadata": {},
   "outputs": [],
   "source": [
    "cc_stix_304 = cross_correlation(ts_solo.quantity('STIX 4-10 keV'), ts_solo.quantity('EUI 304 $\\mathrm{\\AA}$'), lags,)\n",
    "cc_stix_174 = cross_correlation(ts_solo.quantity('STIX 4-10 keV'), ts_solo.quantity('EUI 174 $\\mathrm{\\AA}$'), lags,)\n",
    "cc_304_174 = cross_correlation(ts_solo.quantity('EUI 304 $\\mathrm{\\AA}$'), ts_solo.quantity('EUI 174 $\\mathrm{\\AA}$'), lags,)"
   ]
  },
  {
   "cell_type": "markdown",
   "id": "46ef77e1-1921-4c1e-bd35-26c843da9579",
   "metadata": {},
   "source": [
    "All three pairs are reasonably well correlated. There is a positive delay between the STIX intensity and the 304 EUI intensity as the footpoint brightenings follow the emission of x-rays from the flare. Additionally, the post-flare loops brighten later in the 174 EUI channel as the plasma cools down to 1 MK, explaining the longer delay between STIX and EUI 174 as well as EUI 304 and 174."
   ]
  },
  {
   "cell_type": "code",
   "execution_count": null,
   "id": "6e4433b6-982b-46f8-bd3b-a47cc758a2a2",
   "metadata": {},
   "outputs": [],
   "source": [
    "plt.plot(lags, cc_stix_304, label='4-10 keV, 304 $\\mathrm{\\AA}$')\n",
    "plt.plot(lags, cc_stix_174, label='4-10 keV, 174 $\\mathrm{\\AA}$')\n",
    "plt.plot(lags, cc_304_174, label='304 $\\mathrm{\\AA}$, 174 $\\mathrm{\\AA}$')\n",
    "plt.axvline(x=0, color='k', ls=':')\n",
    "plt.xlim(-3,3)\n",
    "plt.legend(frameon=False)"
   ]
  },
  {
   "cell_type": "markdown",
   "id": "8bc3b74a-fb25-4537-a40b-f1bf2af051b2",
   "metadata": {},
   "source": [
    "We've quantitatively shown that emission in our limited EUI field of view corresponds to the flare observed by STIX."
   ]
  },
  {
   "cell_type": "markdown",
   "id": "d04c88f2-2eaa-4d62-99bb-f70fed08cbea",
   "metadata": {},
   "source": [
    "## What was happening in the solar wind?"
   ]
  },
  {
   "cell_type": "markdown",
   "id": "0293f15c-5c90-44b2-844c-d19c844f5584",
   "metadata": {},
   "source": [
    "Finally, let's look out into the solar wind to see both the corresponding *in situ* data as well as an alternate view of the CME that was launched as a result of this flare."
   ]
  },
  {
   "cell_type": "markdown",
   "id": "158b9624-0b47-48ed-86f8-a059932f198e",
   "metadata": {},
   "source": [
    "### *in situ*"
   ]
  },
  {
   "cell_type": "markdown",
   "id": "f1d5743a-86e1-4887-af75-084242bc6972",
   "metadata": {},
   "source": [
    "In addition to search many common sources of remote sensing data, `Fido` can also search the [NASA Coordinated Data Analysis Web (CDAWeb)](https://cdaweb.gsfc.nasa.gov/) which provides a portal for most *in situ* heliospheric data. We'll be searching CDAWeb for data from both *Parker Solar Probe* as well as *Solar Orbiter*.\n",
    "\n",
    "To make sure our search interval includes the relavant times, we'll extend our time interval to approximately the time when the CME would have arrived at Earth."
   ]
  },
  {
   "cell_type": "code",
   "execution_count": null,
   "id": "2452b8f9-caa4-4498-81fa-2a4a70d439fc",
   "metadata": {},
   "outputs": [],
   "source": [
    "q_psp_solo = Fido.search(\n",
    "    a.Time(time_event_start, time_event_end+4*u.day),\n",
    "    a.cdaweb.Dataset('PSP_FLD_L2_MAG_RTN_1MIN') | a.cdaweb.Dataset('SOLO_L2_MAG-RTN-NORMAL-1-MINUTE')\n",
    ")"
   ]
  },
  {
   "cell_type": "code",
   "execution_count": null,
   "id": "51bc7d7b-b8bc-4720-a839-7b704856d4d6",
   "metadata": {},
   "outputs": [],
   "source": [
    "q_psp_solo"
   ]
  },
  {
   "cell_type": "code",
   "execution_count": null,
   "id": "6607b993-4e2f-4b63-b4c1-930666c8a239",
   "metadata": {},
   "outputs": [],
   "source": [
    "!mkdir -p data/in_situ"
   ]
  },
  {
   "cell_type": "code",
   "execution_count": null,
   "id": "8a36842c-dde2-4d34-94b2-f80d95a8b151",
   "metadata": {},
   "outputs": [],
   "source": [
    "files_psp_solo = Fido.fetch(q_psp_solo, path='data/in_situ', max_conn=1)"
   ]
  },
  {
   "cell_type": "markdown",
   "id": "e92270ac-d24c-431d-b049-fe450dfe954c",
   "metadata": {},
   "source": [
    "As before, we'll create our `TimeSeries` objects by passing in paths to our data."
   ]
  },
  {
   "cell_type": "code",
   "execution_count": null,
   "id": "9b18278d-5b4d-42c8-a690-8feb22ca985f",
   "metadata": {},
   "outputs": [],
   "source": [
    "ts_psp = sunpy.timeseries.TimeSeries(DATA_DIR / 'data/in_situ/psp_fld_*.cdf', concatenate=True)"
   ]
  },
  {
   "cell_type": "markdown",
   "id": "3cf20a8a-b9ff-4e38-ab14-8d57fa9d3858",
   "metadata": {},
   "source": [
    "Interestingly, the PSP magnetometer data does not seem to have observed much in the way of this event. This is likely due to the position of the spacecraft relative to the direction of propagation of the event."
   ]
  },
  {
   "cell_type": "code",
   "execution_count": null,
   "id": "83d342e8-14e4-4068-a37c-9849405f5075",
   "metadata": {},
   "outputs": [],
   "source": [
    "ts_psp.peek(marker='.')"
   ]
  },
  {
   "cell_type": "code",
   "execution_count": null,
   "id": "ee55ff17-e92a-41b3-a2d1-705d3d14a51f",
   "metadata": {},
   "outputs": [],
   "source": [
    "ts_solo_insitu = sunpy.timeseries.TimeSeries(DATA_DIR / 'data/in_situ/solo_l2_mag-*.cdf', concatenate=True)"
   ]
  },
  {
   "cell_type": "code",
   "execution_count": null,
   "id": "f79b8fd8-1570-4960-8a66-f8fadc8ac167",
   "metadata": {},
   "outputs": [],
   "source": [
    "cme_speed = 1000*u.km / u.s"
   ]
  },
  {
   "cell_type": "code",
   "execution_count": null,
   "id": "39fcecce-ccc3-47ba-b9d4-b60d8fcc2a1d",
   "metadata": {},
   "outputs": [],
   "source": [
    "time_propagation_solo = (solo_loc.radius - (1*u.R_sun)) / cme_speed"
   ]
  },
  {
   "cell_type": "markdown",
   "id": "7c5f32e9-3e21-4ad1-9041-fdaae66c9887",
   "metadata": {},
   "source": [
    "In contrast, the magnetometer data on *Solar Orbiter* shows a clear disturbance in all three magnetic field components at the approximate time at which we would expect the CME to arrive at the spacecraft. This is due to *Solar Orbiter* being more directly in the path of the CME. We can see that the disturbance in the field begins approximately when we'd expect the CME to arrive."
   ]
  },
  {
   "cell_type": "code",
   "execution_count": null,
   "id": "7d2be360-1a80-40bd-9a25-fadc578bcd0a",
   "metadata": {},
   "outputs": [],
   "source": [
    "ts_solo_insitu.plot(columns=['B_RTN_0', 'B_RTN_1', 'B_RTN_2'])\n",
    "plt.axvline((time_event_start+time_propagation_solo).datetime, color='k', ls='--')"
   ]
  },
  {
   "cell_type": "markdown",
   "id": "a275e7e0-b5b0-4403-bc46-2d5519f47053",
   "metadata": {},
   "source": [
    "### Images"
   ]
  },
  {
   "cell_type": "markdown",
   "id": "e7fb8f01-5223-43e6-8b96-f63761551860",
   "metadata": {},
   "source": [
    "Finally, let's take a look back at PSP data, but this time looking at the image data from the Wide Field Imager for Parker Solar Probe (WISPR). WISPR is unique in that it looks to the side relative to the direction PSP is pointing in order to image structures in the solar wind.\n",
    "\n",
    "We'll again use `Fido` to search for WISPR data, slightly lengthening our time window to account for propagation to PSP."
   ]
  },
  {
   "cell_type": "code",
   "execution_count": null,
   "id": "0638ce85-6c83-44fe-a8f7-ecbe178ccf3e",
   "metadata": {},
   "outputs": [],
   "source": [
    "q_wispr = Fido.search(a.Time(time_event_start, end=time_event_end+10*u.h),\n",
    "                      a.Instrument.wispr,\n",
    "                      a.Level(3))"
   ]
  },
  {
   "cell_type": "code",
   "execution_count": null,
   "id": "0f2f8cd3-e3e0-465f-90fa-3e7d5c95776f",
   "metadata": {},
   "outputs": [],
   "source": [
    "q_wispr"
   ]
  },
  {
   "cell_type": "markdown",
   "id": "39999dc8-5480-4a47-88cc-e3c2d8ff6bb4",
   "metadata": {},
   "source": [
    "There are a lot of observations in this window so we'll only take 20% of them."
   ]
  },
  {
   "cell_type": "code",
   "execution_count": null,
   "id": "99fc3987-843b-4ddf-8361-e03c8e298072",
   "metadata": {},
   "outputs": [],
   "source": [
    "files_wispr = Fido.fetch(q_wispr[0][::5], path=\"data/{instrument}/{file}\")"
   ]
  },
  {
   "cell_type": "markdown",
   "id": "a1a75659-424d-4f46-a4ff-2ed3a73afc65",
   "metadata": {},
   "source": [
    "We'll create two sets of `MapSequence`s, one for the inner and outer imager (denoted by the numbers appended to the filenames)."
   ]
  },
  {
   "cell_type": "code",
   "execution_count": null,
   "id": "8dd8288d-2236-47d9-8f15-8f240778e810",
   "metadata": {},
   "outputs": [],
   "source": [
    "m_wispr_outer = sunpy.map.Map(DATA_DIR / 'data/WISPR/*_2222.fits')\n",
    "m_wispr_inner = sunpy.map.Map(DATA_DIR / 'data/WISPR/*_1221.fits')"
   ]
  },
  {
   "cell_type": "markdown",
   "id": "b58280a2-1e28-4837-a6be-e83f4962a7aa",
   "metadata": {},
   "source": [
    "Let's visualize the two images at one time step."
   ]
  },
  {
   "cell_type": "code",
   "execution_count": null,
   "id": "4740ad79-b351-4ed5-914e-986f62906692",
   "metadata": {},
   "outputs": [],
   "source": [
    "wispr_norm = ImageNormalize(vmin=0, vmax=0.5e-11, stretch=PowerStretch(1/2.2))"
   ]
  },
  {
   "cell_type": "code",
   "execution_count": null,
   "id": "fd3d9d7b-89a4-4ada-944c-7c0c3dc5bf70",
   "metadata": {},
   "outputs": [],
   "source": [
    "plt.figure(figsize=(10,5),layout='constrained')\n",
    "plt.subplot(121, projection=m_wispr_inner[0])\n",
    "m_wispr_inner[0].plot(norm=wispr_norm, cmap=\"viridis\")\n",
    "plt.subplot(122, projection=m_wispr_outer[0])\n",
    "m_wispr_outer[0].plot(norm=wispr_norm, cmap=\"viridis\")"
   ]
  },
  {
   "cell_type": "markdown",
   "id": "fb214042-f545-46da-84a5-b3550059d7c8",
   "metadata": {},
   "source": [
    "Instead what we'd like to do is visualize data from these two cameras *together*. Fortunately, `sunpy` provides some really convenient machinery for reprojecting images into different coordinate frames. The following function takes an inner and outer WISPR image and combines them by reprojecting them to a common coordinate system. There are a lot of details in how this process works. **We do not need to worry about those at this point.**"
   ]
  },
  {
   "cell_type": "code",
   "execution_count": null,
   "id": "d7b6316b-b461-4f9b-90c6-eed4a1404d52",
   "metadata": {},
   "outputs": [],
   "source": [
    "def combine_wispr_maps(inner_map, outer_map):\n",
    "    from sunpy.coordinates.frames import Helioprojective\n",
    "    ref_coord = SkyCoord(0*u.arcsec, 0*u.arcsec, \n",
    "                         frame=Helioprojective(observer=inner_map.observer_coordinate, obstime=inner_map.date))\n",
    "    \n",
    "    \n",
    "    outshape = (360*2, int(360*3.5))\n",
    "    new_header = sunpy.map.make_fitswcs_header(\n",
    "        outshape, \n",
    "        ref_coord,\n",
    "        reference_pixel=u.Quantity([40*u.pixel, 500*u.pixel]), \n",
    "        scale=u.Quantity([0.1*u.deg/u.pixel, 0.1*u.deg/u.pixel]), \n",
    "        projection_code=\"CAR\",\n",
    "    )\n",
    "    import astropy.wcs\n",
    "    out_wcs = astropy.wcs.WCS(new_header)\n",
    "    from reproject import reproject_interp\n",
    "    from reproject.mosaicking import reproject_and_coadd\n",
    "    with Helioprojective.assume_spherical_screen(inner_map.observer_coordinate):\n",
    "        array, footprint = reproject_and_coadd((inner_map, outer_map), out_wcs, outshape,\n",
    "                                               reproject_function=reproject_interp, match_background=True)\n",
    "\n",
    "    combined_map = sunpy.map.Map((array, new_header))\n",
    "    combined_map.plot_settings[\"norm\"] = wispr_norm\n",
    "    combined_map.plot_settings[\"cmap\"] = \"viridis\"\n",
    "    return combined_map"
   ]
  },
  {
   "cell_type": "markdown",
   "id": "0f92fd27-aa20-40f0-8c5a-9125aabf439c",
   "metadata": {},
   "source": [
    "Let's apply this combination procedure at one time step and visualize the resulting map with the position of the solar disk overlaid."
   ]
  },
  {
   "cell_type": "code",
   "execution_count": null,
   "id": "e98255ba-09fc-4fc4-84b7-0e53a63fad7c",
   "metadata": {},
   "outputs": [],
   "source": [
    "m_wispr_combined = combine_wispr_maps(m_wispr_inner[7], m_wispr_outer[7])"
   ]
  },
  {
   "cell_type": "code",
   "execution_count": null,
   "id": "0dce23db-cb12-4908-b420-be7caee03d7f",
   "metadata": {},
   "outputs": [],
   "source": [
    "plt.figure(figsize=(10, 5))\n",
    "m_wispr_combined.plot()\n",
    "m_wispr_combined.draw_limb(color='w')"
   ]
  },
  {
   "cell_type": "markdown",
   "id": "654631b5-d00e-4a0b-9a5a-17eb1b7b2d15",
   "metadata": {},
   "source": [
    "Now, let's combine the sets of images at every time step to visualize the propoagation of the CME through both cameras."
   ]
  },
  {
   "cell_type": "code",
   "execution_count": null,
   "id": "726db77e-195e-41ad-853e-167fa4c27758",
   "metadata": {},
   "outputs": [],
   "source": [
    "m_wispr_combined = sunpy.map.Map([combine_wispr_maps(m_i, m_o) for m_i,m_o in zip(m_wispr_inner,m_wispr_outer)], sequence=True)"
   ]
  },
  {
   "cell_type": "markdown",
   "id": "6ae1dd31-f5cc-4c55-b64c-001ac3466b15",
   "metadata": {},
   "source": [
    "Finally, as with the LASCO images, we can compute a running difference movie to draw out the structure."
   ]
  },
  {
   "cell_type": "code",
   "execution_count": null,
   "id": "fecd32f8-474d-4260-9634-6e1420e4e224",
   "metadata": {},
   "outputs": [],
   "source": [
    "m_wispr_running = sunpy.map.Map(\n",
    "    [m - prev_m.quantity for m, prev_m in zip(m_wispr_combined[1:], m_wispr_combined[:-1])],\n",
    "    sequence=True\n",
    ")"
   ]
  },
  {
   "cell_type": "code",
   "execution_count": null,
   "id": "a1904b28-ab55-4241-91a8-01f09672848c",
   "metadata": {},
   "outputs": [],
   "source": [
    "plt.figure(figsize=(10, 5))\n",
    "ani_wispr = m_wispr_running.plot(norm=SymLogNorm(1e-14,vmin=-1e-13,vmax=1e-13), cmap='Greys_r')\n",
    "m_wispr_running[0].draw_limb(color='k')"
   ]
  },
  {
   "cell_type": "code",
   "execution_count": null,
   "id": "b0ab6d86-d442-45b1-94dd-d036cb63a350",
   "metadata": {},
   "outputs": [],
   "source": [
    "HTML(ani_wispr.to_jshtml())"
   ]
  },
  {
   "cell_type": "markdown",
   "id": "7cfbaf4c-7c78-4d01-bebb-828ae6cad452",
   "metadata": {},
   "source": [
    "## Conclusion\n",
    "\n",
    "To conclude, in this notebook we showed how to use `sunpy` and its affiliated packages, combined with `pyspedas` to analyze a flare and subsequent CME as it is initiated on the solar disk and propagates into the solar wind. In the process, we learned how to:\n",
    "\n",
    "- Search for and download *in situ* and remote sensing data with `sunpy`\n",
    "- Create, manipulate and visualize `sunpy.timeseries.TimeSeries` objects\n",
    "- Create movies from sequences of `sunpy.map.Map` objects"
   ]
  },
  {
   "cell_type": "markdown",
   "id": "2aeeb142-4ac1-4189-9cac-aaa6e37e77f6",
   "metadata": {},
   "source": [
    "## Resources\n",
    "\n",
    "Below are a few helpful links for finding out more about SunPy, including our webpage, documentation, and our chat room:\n",
    "\n",
    "* [sunpy.org](https://sunpy.org/)\n",
    "* [sunpy Documentation](https://docs.sunpy.org/en/stable/)\n",
    "* [List of Affiliated Packages](https://sunpy.org/affiliated/)\n",
    "* [Element.io Chat Room](https://openastronomy.element.io/#/room/#sunpy:openastronomy.org)\n",
    "* [OpenAstronomy Discourse](https://community.openastronomy.org/c/sunpy/5)"
   ]
  },
  {
   "cell_type": "code",
   "execution_count": null,
   "id": "310fdc63-44fc-49e9-9ba6-2be4280622a9",
   "metadata": {},
   "outputs": [],
   "source": []
  }
 ],
 "metadata": {
  "kernelspec": {
   "display_name": "Python [conda env:pyhc-ss24-sunpy-pyspedas]",
   "language": "python",
   "name": "conda-env-pyhc-ss24-sunpy-pyspedas-py"
  },
  "language_info": {
   "codemirror_mode": {
    "name": "ipython",
    "version": 3
   },
   "file_extension": ".py",
   "mimetype": "text/x-python",
   "name": "python",
   "nbconvert_exporter": "python",
   "pygments_lexer": "ipython3",
   "version": "3.11.8"
  }
 },
 "nbformat": 4,
 "nbformat_minor": 5
}
