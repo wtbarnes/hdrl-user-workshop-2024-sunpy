{
 "cells": [
  {
   "cell_type": "markdown",
   "id": "0",
   "metadata": {},
   "source": [
    "# sunpy (with astropy) tutorial"
   ]
  },
  {
   "cell_type": "code",
   "execution_count": null,
   "id": "749344e0-8714-4bda-b0c0-9e2c598d108b",
   "metadata": {},
   "outputs": [],
   "source": [
    "import pathlib\n",
    "\n",
    "import sunpy\n",
    "sunpy.log.setLevel('ERROR')\n",
    "\n",
    "DATA_DIR = pathlib.Path('./')\n",
    "# In the unlikely event of network issues, uncomment this to use predownloaded data\n",
    "# DATA_DIR = pathlib.Path('/home/jovyan/scratch_space/sunpy-tutorial/sunpy/')"
   ]
  },
  {
   "cell_type": "markdown",
   "id": "c7b97ff2-2689-4ef1-9e67-1ba348396e2b",
   "metadata": {},
   "source": [
    "In this notebook, we will learn about the basic parts of the `sunpy` package as well as how `sunpy` makes use of several core components of the `astropy` package. By the end of this tutorial you will know how to:\n",
    "\n",
    "- Create and manipulate unitful quantities with `astropy.units`\n",
    "- Create and do basic arithmetic with `astropy.time.Time` objects \n",
    "- Search for data from many different data providers with `sunpy`\n",
    "- Load, manipulate, and visualize 2D images data with `sunpy.map.Map`\n",
    "- Do basic coordinate tranformations with the `astropy.coordinates` framework, include solar coordinate frames\n",
    "- Create and visualize time series data with `sunpy.timeseries.TimeSeries`"
   ]
  },
  {
   "cell_type": "markdown",
   "id": "1",
   "metadata": {},
   "source": [
    "## Part 0 - `astropy.units`\n",
    "\n",
    "Let us start with values and scientific units. Often when we reperesent unitful quantities in code, we assume a particular unit system, maybe providing context in a comment."
   ]
  },
  {
   "cell_type": "code",
   "execution_count": null,
   "id": "2",
   "metadata": {},
   "outputs": [],
   "source": [
    "speed = 100 # km/s\n",
    "speed_kms = 100\n",
    "speed_cms = speed_kms * 100"
   ]
  },
  {
   "cell_type": "markdown",
   "id": "3",
   "metadata": {},
   "source": [
    "This doesn't scale and mistakes can be made. Google \"Mars Climate Orbiter\" for an example of when units go wrong."
   ]
  },
  {
   "cell_type": "markdown",
   "id": "4",
   "metadata": {},
   "source": [
    "`astropy` includes a powerful framework for units that allows users to attach units to scalars and arrays.\n",
    "These quantities can be manipulated or combined while keeping track of the units.\n",
    "\n",
    "For more information about the features presented below, please see the [astropy.units](http://docs.astropy.org/en/stable/units/index.html) documentation."
   ]
  },
  {
   "cell_type": "code",
   "execution_count": null,
   "id": "5",
   "metadata": {},
   "outputs": [],
   "source": [
    "import astropy.units as u"
   ]
  },
  {
   "cell_type": "markdown",
   "id": "6",
   "metadata": {},
   "source": [
    "The primary goal of the `astropy.units` package is to be able to store, convert, display units in code."
   ]
  },
  {
   "cell_type": "code",
   "execution_count": null,
   "id": "7",
   "metadata": {},
   "outputs": [],
   "source": [
    "u.meter"
   ]
  },
  {
   "cell_type": "code",
   "execution_count": null,
   "id": "a805bbba-bf6f-4c60-a8bc-6034b0824ee5",
   "metadata": {},
   "outputs": [],
   "source": [
    "?u.m"
   ]
  },
  {
   "cell_type": "code",
   "execution_count": null,
   "id": "4f34a007-0d84-4484-a460-ec4574c24ebd",
   "metadata": {},
   "outputs": [],
   "source": [
    "u.m.physical_type"
   ]
  },
  {
   "cell_type": "markdown",
   "id": "8",
   "metadata": {},
   "source": [
    "Notice that meter also has a shorthand called \"m\".\n",
    "\n",
    "You can create 1 unit, a range of units, and convert the unit."
   ]
  },
  {
   "cell_type": "code",
   "execution_count": null,
   "id": "9",
   "metadata": {},
   "outputs": [],
   "source": [
    "100 * u.meter, "
   ]
  },
  {
   "cell_type": "code",
   "execution_count": null,
   "id": "f455214b-867b-4a1b-a92b-259261dc6246",
   "metadata": {},
   "outputs": [],
   "source": [
    "[1, 2, 4, 8] * u.km"
   ]
  },
  {
   "cell_type": "code",
   "execution_count": null,
   "id": "d4717d0d-28a0-4352-9a13-ad1b11eb1f0a",
   "metadata": {},
   "outputs": [],
   "source": [
    "(100 * u.meter).to(u.AA)"
   ]
  },
  {
   "cell_type": "markdown",
   "id": "10",
   "metadata": {},
   "source": [
    "This system also ensures that arithmetic operations between quantities make sense."
   ]
  },
  {
   "cell_type": "code",
   "execution_count": null,
   "id": "11",
   "metadata": {},
   "outputs": [],
   "source": [
    "10 * u.meter + 100 * u.cm"
   ]
  },
  {
   "cell_type": "code",
   "execution_count": null,
   "id": "12",
   "metadata": {},
   "outputs": [],
   "source": [
    "1 * u.meter + 1 * u.gram"
   ]
  },
  {
   "cell_type": "markdown",
   "id": "13",
   "metadata": {},
   "source": [
    "In addition, there are fixed constants like G and c."
   ]
  },
  {
   "cell_type": "code",
   "execution_count": null,
   "id": "14",
   "metadata": {},
   "outputs": [],
   "source": [
    "from astropy.constants import G, c"
   ]
  },
  {
   "cell_type": "markdown",
   "id": "15",
   "metadata": {},
   "source": [
    "<div class=\"alert alert-block alert-warning\">\n",
    "    <emph><u>EXERCISE:</u>\n",
    "    <br>\n",
    "    Calculate the Schwarzschild Black Hole Radius of the Sun\n",
    "    </emph>\n",
    "    $$R = \\frac{{2GM}}{{c^2 }}$$\n",
    "</div>"
   ]
  },
  {
   "cell_type": "code",
   "execution_count": null,
   "id": "16",
   "metadata": {},
   "outputs": [],
   "source": [
    "# INSTRUCTOR BLOCK\n",
    "R_sch = 2 * G * u.Msun / c**2\n",
    "R_sch.to(u.earthRad)"
   ]
  },
  {
   "cell_type": "code",
   "execution_count": null,
   "id": "a9397998-9879-4e62-8ed1-7657c5d5eca9",
   "metadata": {},
   "outputs": [],
   "source": [
    "R_sch.to(u.km)"
   ]
  },
  {
   "cell_type": "markdown",
   "id": "17",
   "metadata": {},
   "source": [
    "Quantities also support conversion to *equivalent* unit systems (but you have to tell it!)."
   ]
  },
  {
   "cell_type": "code",
   "execution_count": null,
   "id": "18",
   "metadata": {},
   "outputs": [],
   "source": [
    "(500*u.nm).to(u.Hz)"
   ]
  },
  {
   "cell_type": "markdown",
   "id": "19",
   "metadata": {},
   "source": [
    "For this to work, we need to tell `astropy.units` the specific assumption we want to make about how these units are related."
   ]
  },
  {
   "cell_type": "code",
   "execution_count": null,
   "id": "20",
   "metadata": {},
   "outputs": [],
   "source": [
    "(500*u.nm).to(u.Hz, u.spectral())"
   ]
  },
  {
   "cell_type": "markdown",
   "id": "21",
   "metadata": {},
   "source": [
    "These unitful quantities can also be passed to `numpy` functions."
   ]
  },
  {
   "cell_type": "code",
   "execution_count": null,
   "id": "22",
   "metadata": {},
   "outputs": [],
   "source": [
    "import numpy as np"
   ]
  },
  {
   "cell_type": "code",
   "execution_count": null,
   "id": "ebc08d9f-d1fd-41b3-b7cd-6c650caad7a2",
   "metadata": {},
   "outputs": [],
   "source": [
    "np.sin(90 * u.degree)"
   ]
  },
  {
   "cell_type": "code",
   "execution_count": null,
   "id": "2f008eea-e6ce-4456-94f0-5e1e4cb974f2",
   "metadata": {},
   "outputs": [],
   "source": [
    "np.sin(30 * u.rad)"
   ]
  },
  {
   "cell_type": "markdown",
   "id": "23",
   "metadata": {},
   "source": [
    "Lots of methods and functions in `sunpy` require values to have units attached to them.\n",
    "The first case will be us downloading data."
   ]
  },
  {
   "cell_type": "markdown",
   "id": "24",
   "metadata": {},
   "source": [
    "## Part 1 - Data Search and Download with `Fido`"
   ]
  },
  {
   "cell_type": "code",
   "execution_count": null,
   "id": "25",
   "metadata": {},
   "outputs": [],
   "source": [
    "from sunpy.net import Fido, attrs as a"
   ]
  },
  {
   "cell_type": "markdown",
   "id": "26",
   "metadata": {
    "slideshow": {
     "slide_type": "slide"
    }
   },
   "source": [
    "### Overview of the `Fido` Unified Downloader\n",
    "\n",
    "* Fido is sunpy's interface for searching and downloading solar physics data.\n",
    "* It offers a unified interface for searching and fetching data irrespective of the underlying client or web service from where the data is obtained.\n",
    "* Offers a way to search and accesses multiple instruments and all available data providers in a single query.\n",
    "* It supplies a single, easy, consistent and *extendable* way to get most forms of solar physics data the community need \n",
    "\n",
    "Fido currently offers access to data available through:\n",
    "\n",
    " * **Virtual Solar Observatory (VSO)**\n",
    " * **Joint Science Operations Center (JSOC)**\n",
    " * **Individual data providers** from web accessible sources (http, ftp, etc)\n",
    " * **Heliophysics Events Knowledgebase (HEK)**\n",
    " * **Heliophysics Feature Catalogue (HELIO)**\n",
    " * Other sources via a plugin system\n",
    " \n",
    "As described here Fido provides access to many sources of data through different `clients`, these clients can be defined inside sunpy or in other packages.\n",
    "\n",
    "Lets print the current list of available clients within sunpy."
   ]
  },
  {
   "cell_type": "code",
   "execution_count": null,
   "id": "27",
   "metadata": {},
   "outputs": [],
   "source": [
    "Fido"
   ]
  },
  {
   "cell_type": "markdown",
   "id": "28",
   "metadata": {
    "tags": []
   },
   "source": [
    "### Searching for Data\n",
    "\n",
    "sunpy uses specified *attributes* to search for data using Fido.\n",
    "These search attributes can be combined together to construct data search queries, such as searching over a certain time period or for data from a specific instrument observing in a certain wavelength.\n",
    "\n",
    "Different clients may have client-specific attributes, but the core attributes are:\n",
    "\n",
    "* `a.Time`\n",
    "* `a.Instrument`\n",
    "* `a.Wavelength`\n",
    "\n",
    "Let's use these different attributes to construct a query for our CME observation."
   ]
  },
  {
   "cell_type": "code",
   "execution_count": null,
   "id": "29",
   "metadata": {},
   "outputs": [],
   "source": [
    "cme_start = \"2022-03-28T11:00\"\n",
    "cme_end = \"2022-03-28T14:00\""
   ]
  },
  {
   "cell_type": "code",
   "execution_count": null,
   "id": "30",
   "metadata": {},
   "outputs": [],
   "source": [
    "cme_time = a.Time(cme_start, cme_end)"
   ]
  },
  {
   "cell_type": "markdown",
   "id": "31",
   "metadata": {},
   "source": [
    "What is this time object?"
   ]
  },
  {
   "cell_type": "code",
   "execution_count": null,
   "id": "32",
   "metadata": {},
   "outputs": [],
   "source": [
    "cme_time"
   ]
  },
  {
   "cell_type": "code",
   "execution_count": null,
   "id": "33",
   "metadata": {},
   "outputs": [],
   "source": [
    "cme_time.start"
   ]
  },
  {
   "cell_type": "code",
   "execution_count": null,
   "id": "c2f47b3d-26ba-4554-b71f-e88b6d6c8bd1",
   "metadata": {},
   "outputs": [],
   "source": [
    " type(cme_time.start)"
   ]
  },
  {
   "cell_type": "markdown",
   "id": "34",
   "metadata": {},
   "source": [
    "### Aside - `astropy.time.Time`\n",
    "\n",
    "Python already has a built-in datetime package which handles standard dates, times, timezones and time deltas."
   ]
  },
  {
   "cell_type": "code",
   "execution_count": null,
   "id": "35",
   "metadata": {},
   "outputs": [],
   "source": [
    "import datetime"
   ]
  },
  {
   "cell_type": "markdown",
   "id": "36",
   "metadata": {},
   "source": [
    "We can get the current datetime"
   ]
  },
  {
   "cell_type": "code",
   "execution_count": null,
   "id": "37",
   "metadata": {},
   "outputs": [],
   "source": [
    "datetime.datetime.now(datetime.timezone.utc)"
   ]
  },
  {
   "cell_type": "markdown",
   "id": "38",
   "metadata": {},
   "source": [
    "We can do some arithmetic with the datetime objects "
   ]
  },
  {
   "cell_type": "code",
   "execution_count": null,
   "id": "39",
   "metadata": {},
   "outputs": [],
   "source": [
    "datetime.datetime(2024,1,1) - datetime.timedelta(minutes = 1)"
   ]
  },
  {
   "cell_type": "markdown",
   "id": "40",
   "metadata": {},
   "source": [
    "So why do we need `astropy.time`?\n",
    "\n",
    "Two main areas:\n",
    "\n",
    " - Astronomical formats (e.g., Julian Date (JD), Modified JD (MJD))\n",
    " - Precise timing (e.g., a nanosecond over a Hubble Time)\n",
    "\n",
    "Neither are supported by the standard datetime library.\n",
    "\n",
    "So let us import the time objects from astropy"
   ]
  },
  {
   "cell_type": "code",
   "execution_count": null,
   "id": "41",
   "metadata": {},
   "outputs": [],
   "source": [
    "from astropy.time import Time, TimeDelta"
   ]
  },
  {
   "cell_type": "markdown",
   "id": "42",
   "metadata": {},
   "source": [
    "The MJD for a given date is the number of days to that date since Jan 1 4713 B.C. 00:00:00 (midnight)."
   ]
  },
  {
   "cell_type": "code",
   "execution_count": null,
   "id": "43",
   "metadata": {},
   "outputs": [],
   "source": [
    "time = Time(58086.182, format='mjd')"
   ]
  },
  {
   "cell_type": "code",
   "execution_count": null,
   "id": "b3e2a3b4-3567-4d3f-bff1-f559582068e5",
   "metadata": {},
   "outputs": [],
   "source": [
    "time"
   ]
  },
  {
   "cell_type": "markdown",
   "id": "724f3fca-a630-494d-8db5-ce1a060870e0",
   "metadata": {},
   "source": [
    "You can represent these `Time` objects in other formats."
   ]
  },
  {
   "cell_type": "code",
   "execution_count": null,
   "id": "51",
   "metadata": {},
   "outputs": [],
   "source": [
    "time.jd"
   ]
  },
  {
   "cell_type": "code",
   "execution_count": null,
   "id": "755fcaff-f6a3-4fb2-a149-8a36625fbf3d",
   "metadata": {},
   "outputs": [],
   "source": [
    "time.iso"
   ]
  },
  {
   "cell_type": "code",
   "execution_count": null,
   "id": "317a2c82-8593-40c3-bd3e-c6bff55930cc",
   "metadata": {},
   "outputs": [],
   "source": [
    "time.isot"
   ]
  },
  {
   "cell_type": "markdown",
   "id": "0c9c545f-c2b5-4666-9ede-2477a44f2d3e",
   "metadata": {},
   "source": [
    "We can also do arithmetic with `Time`"
   ]
  },
  {
   "cell_type": "code",
   "execution_count": null,
   "id": "47",
   "metadata": {},
   "outputs": [],
   "source": [
    "time - TimeDelta(1, format='jd') # Defaults to days."
   ]
  },
  {
   "cell_type": "code",
   "execution_count": null,
   "id": "bfb0877e-a9b2-4355-8f37-5fdcf13e3266",
   "metadata": {},
   "outputs": [],
   "source": [
    "time - 1*u.day"
   ]
  },
  {
   "cell_type": "markdown",
   "id": "44",
   "metadata": {},
   "source": [
    "This applies to arrays as well."
   ]
  },
  {
   "cell_type": "code",
   "execution_count": null,
   "id": "45",
   "metadata": {},
   "outputs": [],
   "source": [
    "times = time + np.linspace(0, 1, 10) * u.day"
   ]
  },
  {
   "cell_type": "code",
   "execution_count": null,
   "id": "8688f070-8d7f-4d80-b365-ffd57ea1cff6",
   "metadata": {},
   "outputs": [],
   "source": [
    "times"
   ]
  },
  {
   "cell_type": "code",
   "execution_count": null,
   "id": "dc8a8964-cd6d-456a-9979-e7ba1036a1a9",
   "metadata": {},
   "outputs": [],
   "source": [
    "times - times[0]"
   ]
  },
  {
   "cell_type": "code",
   "execution_count": null,
   "id": "df60ee0a-af10-46c2-a211-8a4f61973855",
   "metadata": {},
   "outputs": [],
   "source": [
    "(times - times[0]).to('day')"
   ]
  },
  {
   "cell_type": "markdown",
   "id": "48",
   "metadata": {},
   "source": [
    "For nanoseconds, we have to adjust the precision"
   ]
  },
  {
   "cell_type": "code",
   "execution_count": null,
   "id": "49",
   "metadata": {},
   "outputs": [],
   "source": [
    "time = Time('1999-01-01T00:00:00.123456789')\n",
    "print(time)"
   ]
  },
  {
   "cell_type": "code",
   "execution_count": null,
   "id": "7dd27e81-7fe2-4710-ba2a-e7f658bd6c38",
   "metadata": {},
   "outputs": [],
   "source": [
    "time.precision = 9\n",
    "print(time)"
   ]
  },
  {
   "cell_type": "code",
   "execution_count": null,
   "id": "f4f3a089-f5a6-4c04-a48b-ddc191235eef",
   "metadata": {},
   "outputs": [],
   "source": [
    "time.datetime"
   ]
  },
  {
   "cell_type": "markdown",
   "id": "52",
   "metadata": {},
   "source": [
    "Notice that the nanoseconds are gone from the datetime version."
   ]
  },
  {
   "cell_type": "markdown",
   "id": "53",
   "metadata": {},
   "source": [
    "### Combining Search Attributes"
   ]
  },
  {
   "cell_type": "markdown",
   "id": "54",
   "metadata": {},
   "source": [
    "We can inspect the instrument attribute to see what instruments are currently supported through sunpy. Here we can see the instrument name (i.e., the name to be passed to the `a.Instrument` attribute, the client from which the data is available to access, and the full name of the instrument."
   ]
  },
  {
   "cell_type": "code",
   "execution_count": null,
   "id": "55",
   "metadata": {},
   "outputs": [],
   "source": [
    "a.Instrument"
   ]
  },
  {
   "cell_type": "markdown",
   "id": "56",
   "metadata": {},
   "source": [
    "We can combine our time and instrument attributes to search for AIA data within our selected time range using `Fido.search`"
   ]
  },
  {
   "cell_type": "code",
   "execution_count": null,
   "id": "57",
   "metadata": {
    "tags": []
   },
   "outputs": [],
   "source": [
    "Fido.search(cme_time & a.Instrument.aia)"
   ]
  },
  {
   "cell_type": "markdown",
   "id": "58",
   "metadata": {},
   "source": [
    "We can further filter our results using the `Wavelength` search attribute."
   ]
  },
  {
   "cell_type": "code",
   "execution_count": null,
   "id": "59",
   "metadata": {},
   "outputs": [],
   "source": [
    "Fido.search(cme_time & a.Instrument.aia & a.Wavelength(304*u.angstrom))"
   ]
  },
  {
   "cell_type": "code",
   "execution_count": null,
   "id": "60",
   "metadata": {},
   "outputs": [],
   "source": [
    "aia_query = cme_time & a.Wavelength(304*u.angstrom) & a.Instrument.aia & a.Sample(12*u.min)"
   ]
  },
  {
   "cell_type": "code",
   "execution_count": null,
   "id": "61",
   "metadata": {},
   "outputs": [],
   "source": [
    "Fido.search(aia_query)"
   ]
  },
  {
   "cell_type": "markdown",
   "id": "62",
   "metadata": {
    "tags": []
   },
   "source": [
    "<div class=\"alert alert-block alert-warning\">\n",
    "    <emph><u>EXERCISE:</u>\n",
    "    <br>\n",
    "    We've written a query for the AIA data above. How would we write a query for EUVI data from STEREO-A for the same time range, cadence, and wavelength?\n",
    "    </emph>\n",
    "</div>"
   ]
  },
  {
   "cell_type": "code",
   "execution_count": null,
   "id": "63",
   "metadata": {},
   "outputs": [],
   "source": [
    "# INSTRUCTOR BLOCK\n",
    "stereo_query = cme_time & a.Wavelength(304*u.angstrom) & a.Instrument.secchi & a.Sample(12*u.min)"
   ]
  },
  {
   "cell_type": "markdown",
   "id": "64",
   "metadata": {
    "tags": []
   },
   "source": [
    "### Combining Queries\n",
    "\n",
    "In addition to making queries for individual instruments, we can also logically combine queries for multiple instruments at once. For example, if we wanted to search for data from both AIA and SECCHI for the same time range and passband."
   ]
  },
  {
   "cell_type": "code",
   "execution_count": null,
   "id": "65",
   "metadata": {},
   "outputs": [],
   "source": [
    "Fido.search(cme_time, a.Instrument.aia | a.Instrument.secchi, a.Wavelength(304*u.angstrom), a.Sample(12*u.minute))"
   ]
  },
  {
   "cell_type": "markdown",
   "id": "66",
   "metadata": {},
   "source": [
    "What if we also wanted to look for the GOES XRS data during this same interval?\n",
    "\n",
    "GOES/XRS data does not have a \"Wavelength\" or \"Sample\" associated with it, but we can still combine the queries for all three of these instruments."
   ]
  },
  {
   "cell_type": "code",
   "execution_count": null,
   "id": "67",
   "metadata": {},
   "outputs": [],
   "source": [
    "aia_or_secchi = (a.Instrument.aia | a.Instrument.secchi) & a.Wavelength(304*u.angstrom) & a.Sample(12*u.minute)"
   ]
  },
  {
   "cell_type": "code",
   "execution_count": null,
   "id": "68",
   "metadata": {},
   "outputs": [],
   "source": [
    "goes_query = a.Instrument.xrs & a.goes.SatelliteNumber(17) & a.Resolution('flx1s')"
   ]
  },
  {
   "cell_type": "code",
   "execution_count": null,
   "id": "69",
   "metadata": {},
   "outputs": [],
   "source": [
    "combined_query = Fido.search(cme_time, aia_or_secchi | goes_query)"
   ]
  },
  {
   "cell_type": "code",
   "execution_count": null,
   "id": "70",
   "metadata": {},
   "outputs": [],
   "source": [
    "combined_query"
   ]
  },
  {
   "cell_type": "markdown",
   "id": "b6f6d8b5-490d-4750-81c9-1530eb70fb7d",
   "metadata": {},
   "source": [
    "Note that we get a different table back for each of our combination of search parameters."
   ]
  },
  {
   "cell_type": "code",
   "execution_count": null,
   "id": "8ebb2ab6-dace-420b-9f6b-1445e33df8d7",
   "metadata": {},
   "outputs": [],
   "source": [
    "len(combined_query)"
   ]
  },
  {
   "cell_type": "code",
   "execution_count": null,
   "id": "d99cecd2-215b-451e-b17c-52217daf3eed",
   "metadata": {},
   "outputs": [],
   "source": [
    "combined_query[0]"
   ]
  },
  {
   "cell_type": "markdown",
   "id": "94",
   "metadata": {},
   "source": [
    "### Downloading Data\n",
    "\n",
    "We can easily make a single download request from all of our different clients by passing in our combined query for AIA, EUVI and XRS."
   ]
  },
  {
   "cell_type": "code",
   "execution_count": null,
   "id": "95",
   "metadata": {
    "tags": []
   },
   "outputs": [],
   "source": [
    "files = Fido.fetch(combined_query, path='data/{instrument}')"
   ]
  },
  {
   "cell_type": "markdown",
   "id": "96",
   "metadata": {},
   "source": [
    "Let us see what we got!"
   ]
  },
  {
   "cell_type": "code",
   "execution_count": null,
   "id": "97",
   "metadata": {},
   "outputs": [],
   "source": [
    "files"
   ]
  },
  {
   "cell_type": "markdown",
   "id": "98",
   "metadata": {},
   "source": [
    "Now we have all of these files, what do we do with them?"
   ]
  },
  {
   "cell_type": "markdown",
   "id": "99",
   "metadata": {},
   "source": [
    "## Part 2 - The `Map` Data Structure\n",
    "\n",
    "Let us start with the 2D data files.\n",
    "We will use glob to separate the files."
   ]
  },
  {
   "cell_type": "code",
   "execution_count": null,
   "id": "100",
   "metadata": {},
   "outputs": [],
   "source": [
    "aia_files = sorted((DATA_DIR / 'data/AIA/').glob('*.fits'))\n",
    "stereo_files = sorted((DATA_DIR / 'data/SECCHI/').glob('*.fts'))"
   ]
  },
  {
   "cell_type": "code",
   "execution_count": null,
   "id": "101",
   "metadata": {},
   "outputs": [],
   "source": [
    "aia_files"
   ]
  },
  {
   "cell_type": "markdown",
   "id": "102",
   "metadata": {},
   "source": [
    "The most common data format used in Solar Physics for remote sensing instruments are FITS files, which consist of Header Data Unit (HDU) Pairs.\n",
    "We can open these easily with astropy."
   ]
  },
  {
   "cell_type": "code",
   "execution_count": null,
   "id": "103",
   "metadata": {},
   "outputs": [],
   "source": [
    "from astropy.io import fits\n",
    "\n",
    "hdulist = fits.open(aia_files[0])\n",
    "hdulist"
   ]
  },
  {
   "cell_type": "markdown",
   "id": "104",
   "metadata": {},
   "source": [
    "Here, it isn't important to worry about the first item in this list.\n",
    "We want to access the second element and check the data and FITS header of the file."
   ]
  },
  {
   "cell_type": "code",
   "execution_count": null,
   "id": "105",
   "metadata": {},
   "outputs": [],
   "source": [
    "hdulist[1].data"
   ]
  },
  {
   "cell_type": "markdown",
   "id": "1fdf1cc6-9675-461e-848f-b425199d6c75",
   "metadata": {},
   "source": [
    "We can visualize this data array just using `matplotlib`."
   ]
  },
  {
   "cell_type": "code",
   "execution_count": null,
   "id": "108",
   "metadata": {},
   "outputs": [],
   "source": [
    "import matplotlib.pyplot as plt\n",
    "\n",
    "fig = plt.figure()\n",
    "ax = fig.add_subplot()\n",
    "ax.imshow(hdulist[1].data, vmin=0, vmax=100)\n",
    "# Quick note to remember that we do not need to use plt.show() to display the plot in a notebook."
   ]
  },
  {
   "cell_type": "markdown",
   "id": "2a201935-d7a2-4c5e-935b-89e860f85a13",
   "metadata": {},
   "source": [
    "The metadata for this file is all stored in the FITS header. A FITS header can be long and difficult to parse. For example, the names of the keys can only be 8 characters long and can often be quite cryptic."
   ]
  },
  {
   "cell_type": "code",
   "execution_count": null,
   "id": "106",
   "metadata": {},
   "outputs": [],
   "source": [
    "hdulist[1].header"
   ]
  },
  {
   "cell_type": "markdown",
   "id": "109",
   "metadata": {},
   "source": [
    "While we can access the data and header directly, working like that can pose some challenges. For example, what pixel(s) corresponds to the region on the Sun I am interested in? What coordinate system is my image in? \n",
    "\n",
    "We need a way to tie the data and the metadata together to form one coherent unit."
   ]
  },
  {
   "cell_type": "markdown",
   "id": "110",
   "metadata": {},
   "source": [
    "### Creating a `Map`"
   ]
  },
  {
   "cell_type": "markdown",
   "id": "111",
   "metadata": {},
   "source": [
    "We create a `sunpy.map.Map` object by passing in the FITS file for a single AIA and SECCHI (STEREO) observation."
   ]
  },
  {
   "cell_type": "code",
   "execution_count": null,
   "id": "259126c3-d880-47ea-9c29-07ff7bd9a327",
   "metadata": {},
   "outputs": [],
   "source": [
    "import sunpy.map"
   ]
  },
  {
   "cell_type": "code",
   "execution_count": null,
   "id": "7834a848-4328-4842-ae65-0676878e478f",
   "metadata": {},
   "outputs": [],
   "source": [
    "m_aia = sunpy.map.Map(aia_files[6])"
   ]
  },
  {
   "cell_type": "code",
   "execution_count": null,
   "id": "112",
   "metadata": {},
   "outputs": [],
   "source": [
    "m_stereo = sunpy.map.Map(stereo_files[6])"
   ]
  },
  {
   "cell_type": "markdown",
   "id": "113",
   "metadata": {},
   "source": [
    "We can easily visualize a map after loading it using the quicklook functionality that is enabled by the notebook."
   ]
  },
  {
   "cell_type": "code",
   "execution_count": null,
   "id": "114",
   "metadata": {},
   "outputs": [],
   "source": [
    "m_stereo"
   ]
  },
  {
   "cell_type": "markdown",
   "id": "115",
   "metadata": {},
   "source": [
    "Or using the `peek` method"
   ]
  },
  {
   "cell_type": "code",
   "execution_count": null,
   "id": "116",
   "metadata": {},
   "outputs": [],
   "source": [
    "m_stereo.peek()"
   ]
  },
  {
   "cell_type": "markdown",
   "id": "117",
   "metadata": {},
   "source": [
    "We will talk much more about visualizing maps later on."
   ]
  },
  {
   "cell_type": "markdown",
   "id": "118",
   "metadata": {},
   "source": [
    "### Attributes of a `Map`"
   ]
  },
  {
   "cell_type": "markdown",
   "id": "119",
   "metadata": {},
   "source": [
    "`Map` provides a common interface to most 2D imaging solar datasets and provides several useful pieces of metadata.\n",
    "`Map` is a container for holding your data and metadata (usually from the FITS header) together.\n",
    "\n",
    "The `.meta` and `.data` attributes provide access to the metadata and underlying array of image data, respectively."
   ]
  },
  {
   "cell_type": "code",
   "execution_count": null,
   "id": "120",
   "metadata": {},
   "outputs": [],
   "source": [
    "m_aia.data"
   ]
  },
  {
   "cell_type": "code",
   "execution_count": null,
   "id": "121",
   "metadata": {},
   "outputs": [],
   "source": [
    "m_aia.meta"
   ]
  },
  {
   "cell_type": "markdown",
   "id": "122",
   "metadata": {},
   "source": [
    "These are very similar to the outputs we got earlier from parsing the FITS file directly with `astropy`.\n",
    "\n",
    "This metadata can be terse, non-homogeneous, and sometimes difficult to parse.\n",
    "`Map` provides several high-level attributes derived from the underlying raw metadata that expose a uniform interface to the metadata for each map."
   ]
  },
  {
   "cell_type": "code",
   "execution_count": null,
   "id": "123",
   "metadata": {},
   "outputs": [],
   "source": [
    "m_aia.wavelength"
   ]
  },
  {
   "cell_type": "code",
   "execution_count": null,
   "id": "124",
   "metadata": {},
   "outputs": [],
   "source": [
    "m_stereo.instrument"
   ]
  },
  {
   "cell_type": "markdown",
   "id": "125",
   "metadata": {},
   "source": [
    "Each `Map` object also holds the unit system that the image data is in, expressed in terms of an `astropy.unit.Unit` object."
   ]
  },
  {
   "cell_type": "code",
   "execution_count": null,
   "id": "126",
   "metadata": {},
   "outputs": [],
   "source": [
    "m_stereo.unit"
   ]
  },
  {
   "cell_type": "markdown",
   "id": "129",
   "metadata": {},
   "source": [
    "### Aside - `astropy.coordinates`"
   ]
  },
  {
   "cell_type": "markdown",
   "id": "130",
   "metadata": {},
   "source": [
    "#### Coordinate Information\n",
    "\n",
    "Each `Map` exposes information about which coordinate system the image was taken in, including the location of the spacecraft that recorded that observation.\n",
    "`sunpy` leverages and extends the powerful `astropy` coordinate framework with solar-specific coordinate frames. \n",
    "The `SkyCoord` object is the primary interface for working with coordinates.\n",
    "`SkyCoord` provides a simple and flexible user interface for celestial coordinate representation, manipulation, and transformation between coordinate frames. "
   ]
  },
  {
   "cell_type": "code",
   "execution_count": null,
   "id": "6da4532e-d68d-447f-9c12-84d97fc9c6dd",
   "metadata": {},
   "outputs": [],
   "source": [
    "from astropy.coordinates import SkyCoord"
   ]
  },
  {
   "cell_type": "code",
   "execution_count": null,
   "id": "131",
   "metadata": {},
   "outputs": [],
   "source": [
    "point = SkyCoord(0*u.deg, 0*u.deg, frame='icrs')\n",
    "point"
   ]
  },
  {
   "cell_type": "markdown",
   "id": "132",
   "metadata": {},
   "source": [
    "Here, the ICRS<a name=\"icrs-note\"></a>[<sup>[1]</sup>](#icrs-note) is just one coordinate frame among many.\n",
    "`sunpy` adds a number of solar coordinate frames which are automatically registered with `astropy` when you import `sunpy.coordinates`."
   ]
  },
  {
   "cell_type": "code",
   "execution_count": null,
   "id": "133",
   "metadata": {},
   "outputs": [],
   "source": [
    "point.galactic"
   ]
  },
  {
   "cell_type": "markdown",
   "id": "134",
   "metadata": {},
   "source": [
    "This is a specific example but as this is provided without context, let us show how this works within `sunpy`."
   ]
  },
  {
   "cell_type": "markdown",
   "id": "7cc2f3ce-b39a-4bd5-a3de-0764e4957291",
   "metadata": {},
   "source": [
    "<a name=\"icrs-note\"></a>[<sup>[1]</sup>](#icrs-note) A resolution passed in 1997 established the International Celestial Reference System (ICRS), a high precision coordinate\n",
    "system with its origin at the solar system barycenter and \"a space fixed\" (kinematically nonrotating) axes. "
   ]
  },
  {
   "cell_type": "markdown",
   "id": "135",
   "metadata": {},
   "source": [
    "#### A solar coordinate frame"
   ]
  },
  {
   "cell_type": "markdown",
   "id": "136",
   "metadata": {},
   "source": [
    "An example of a solar-specific coordinate system is the Stonyhurst heliographic (HGS) coordinate system. \n",
    "The HGS system is defined with the following Cartesian axes:\n",
    "\n",
    "* The origin is the center of the Sun\n",
    "* The Z-axis (+90 degrees latitude) is aligned with the Sun’s north pole.\n",
    "* The X-axis (0 degrees longitude and 0 degrees latitude) is perpendicular to the Z-axis such that the XZ-plane contains the Sun-Earth line.  That is, Earth is at 0 degrees longitude (but usually not at 0 degrees latitude).\n",
    "* The Y-axis (+90 degrees longitude and 0 degrees latitude) is perpendicular to both the X-axis and the Z-axis in a right-handed fashion.\n",
    "\n",
    "Then, the coordinate frame is the realization of this definition at a particular time, which defines the position/orientation of the Sun and the position of the Earth.\n",
    "\n",
    "Let's create a frame for Stonyhurst heliographic coordinates using sunpy's [`HeliographicStonyhurst` class](https://docs.sunpy.org/en/stable/api/sunpy.coordinates.frames.HeliographicStonyhurst.html):"
   ]
  },
  {
   "cell_type": "code",
   "execution_count": null,
   "id": "528cab8f-db9c-4b16-9ae3-efffcbb6c39b",
   "metadata": {},
   "outputs": [],
   "source": [
    "from sunpy.coordinates import HeliographicStonyhurst"
   ]
  },
  {
   "cell_type": "code",
   "execution_count": null,
   "id": "137",
   "metadata": {},
   "outputs": [],
   "source": [
    "time = '2022-03-28 11:00'\n",
    "hgs_frame = HeliographicStonyhurst(obstime=time)\n",
    "hgs_frame"
   ]
  },
  {
   "cell_type": "markdown",
   "id": "138",
   "metadata": {},
   "source": [
    "#### Coordinates and different representations\n",
    "\n",
    "A **coordinate** combines position data with a `SkyCoord`."
   ]
  },
  {
   "cell_type": "code",
   "execution_count": null,
   "id": "139",
   "metadata": {},
   "outputs": [],
   "source": [
    "# longitude, latitude, and distance from the origin\n",
    "hgs_coord = SkyCoord(10*u.deg, 20*u.deg, 1*u.AU, frame=hgs_frame)\n",
    "hgs_coord"
   ]
  },
  {
   "cell_type": "markdown",
   "id": "aa5ff7ff-0e13-47b8-a7ee-7d153e7e9a55",
   "metadata": {},
   "source": [
    "The invidual components of our coordinate can be accessed as properties."
   ]
  },
  {
   "cell_type": "code",
   "execution_count": null,
   "id": "0d527b1a-9e76-47b6-b726-91b24da090df",
   "metadata": {},
   "outputs": [],
   "source": [
    "hgs_coord.lon"
   ]
  },
  {
   "cell_type": "code",
   "execution_count": null,
   "id": "6f1c011d-4c3a-4f79-805c-c72844109a80",
   "metadata": {},
   "outputs": [],
   "source": [
    "hgs_coord.lat"
   ]
  },
  {
   "cell_type": "code",
   "execution_count": null,
   "id": "46d93db3-f4cc-4c3d-ac0c-eaf98c26061c",
   "metadata": {},
   "outputs": [],
   "source": [
    "hgs_coord.radius"
   ]
  },
  {
   "cell_type": "markdown",
   "id": "fd3bde6a-6f6b-412d-b35f-9c3dc10b05ab",
   "metadata": {},
   "source": [
    "This position data can have different **representations**, e.g., spherical components or Cartesian components."
   ]
  },
  {
   "cell_type": "code",
   "execution_count": null,
   "id": "b4ba7d73-bbec-4ef0-ac2b-da913c8734fd",
   "metadata": {},
   "outputs": [],
   "source": [
    "hgs_coord.cartesian"
   ]
  },
  {
   "cell_type": "code",
   "execution_count": null,
   "id": "7fae2cf4-311d-4b00-a079-a70b9d02fb55",
   "metadata": {},
   "outputs": [],
   "source": [
    "hgs_coord.spherical"
   ]
  },
  {
   "cell_type": "markdown",
   "id": "142",
   "metadata": {},
   "source": [
    "#### Observer-based frames\n",
    "\n",
    "A number of coordinate frames are **observer-based**, which means that the coordinate frame itself is defined by the position of the observer.\n",
    "For example, helioprojective Cartesian coordinates are aligned such that one axis is aligned with the Sun-observer line.\n",
    "\n",
    "Let's use the above `HeliographicStonyhurst` coordinate as the observer for a [`Helioprojective` frame](https://docs.sunpy.org/en/stable/api/sunpy.coordinates.frames.Helioprojective.html), here for 2D helioprojective coordinates: $(\\theta_x, \\theta_y) = (123^{\\prime\\prime}, 456^{\\prime\\prime})$."
   ]
  },
  {
   "cell_type": "code",
   "execution_count": null,
   "id": "d0c03d16-f3d0-4a2d-b077-c426702c5662",
   "metadata": {},
   "outputs": [],
   "source": [
    "from sunpy.coordinates import Helioprojective"
   ]
  },
  {
   "cell_type": "code",
   "execution_count": null,
   "id": "143",
   "metadata": {},
   "outputs": [],
   "source": [
    "hpc_frame = Helioprojective(obstime=time, observer=hgs_coord)"
   ]
  },
  {
   "cell_type": "code",
   "execution_count": null,
   "id": "47148eb4-a75d-4350-b57b-2212d2ce03ad",
   "metadata": {},
   "outputs": [],
   "source": [
    "SkyCoord(123*u.arcsec, 456*u.arcsec, frame=hpc_frame)"
   ]
  },
  {
   "cell_type": "markdown",
   "id": "144",
   "metadata": {},
   "source": [
    "Recall that all of the `sunpy.Map`s we created so far are defined in a Helioprojective frame."
   ]
  },
  {
   "cell_type": "markdown",
   "id": "145",
   "metadata": {},
   "source": [
    "### Using Coordinates with `Map`"
   ]
  },
  {
   "cell_type": "markdown",
   "id": "8d3c4571-7ae5-462d-9b71-99620c091d60",
   "metadata": {},
   "source": [
    "For each `Map`, we can easily access what *coordinate frame* the observation corresponds to."
   ]
  },
  {
   "cell_type": "code",
   "execution_count": null,
   "id": "158",
   "metadata": {},
   "outputs": [],
   "source": [
    "m_aia.coordinate_frame"
   ]
  },
  {
   "cell_type": "markdown",
   "id": "7c456b47-173c-4b44-a46a-c24ba1f00b11",
   "metadata": {},
   "source": [
    "Similarly, we can look at the location of the observer (as defined by the position of the satellite at the time of the observation)."
   ]
  },
  {
   "cell_type": "code",
   "execution_count": null,
   "id": "160",
   "metadata": {},
   "outputs": [],
   "source": [
    "m_aia.observer_coordinate"
   ]
  },
  {
   "cell_type": "code",
   "execution_count": null,
   "id": "161",
   "metadata": {},
   "outputs": [],
   "source": [
    "m_stereo.observer_coordinate"
   ]
  },
  {
   "cell_type": "markdown",
   "id": "39e4dfda-6d2e-406b-aa6c-a622dfd4de7c",
   "metadata": {},
   "source": [
    "We can plot these observer coordinates to show the relative position, in heliographic longitude, of each spacecraft, similar to the SolarMACH plot we showed in our previous notebook.\n",
    "\n",
    "(**NOTE:** *It is not particularly important to understand the intricacies of the plotting code below. This is merely to show we can use the coordination information in each map to visualize the relative positions of the three spacecraft we are concerned with here.*)"
   ]
  },
  {
   "cell_type": "code",
   "execution_count": null,
   "id": "163",
   "metadata": {},
   "outputs": [],
   "source": [
    "# Leave this code here\n",
    "fig = plt.figure(figsize=(8, 8))\n",
    "ax = plt.subplot(projection='polar')\n",
    "\n",
    "# Plot the Sun\n",
    "ax.plot(0, 0, marker='o', markersize=20, label='Sun', color='yellow')\n",
    "\n",
    "# Plot the satellite locations\n",
    "for m in [m_aia, m_stereo]:\n",
    "    sat = m.observatory\n",
    "    coord = m.observer_coordinate\n",
    "    ax.plot(coord.lon.to('rad'), coord.radius.to(u.AU), 'o', label=sat)\n",
    "\n",
    "ax.set_theta_zero_location(\"S\")\n",
    "ax.set_rlabel_position(90)\n",
    "ax.set_rlim(0, 1.3)\n",
    "ax.legend()"
   ]
  },
  {
   "cell_type": "markdown",
   "id": "164",
   "metadata": {},
   "source": [
    "### The World Coordinate System"
   ]
  },
  {
   "cell_type": "markdown",
   "id": "165",
   "metadata": {},
   "source": [
    "The World Coordinate System or WCS is a framework for transforming between pixel and world coordinates."
   ]
  },
  {
   "cell_type": "code",
   "execution_count": null,
   "id": "166",
   "metadata": {},
   "outputs": [],
   "source": [
    "m_aia.wcs"
   ]
  },
  {
   "cell_type": "markdown",
   "id": "f2f3966a-a804-4541-af2f-f835d61245d1",
   "metadata": {},
   "source": [
    "There is a lot of complexity in how the WCS is defined, but for our purposes here, it is just a mechanism for transforming between the *pixel* coordinate system of our image and the *world* coordinate system defined by the coordinate frame in which our image is defined."
   ]
  },
  {
   "cell_type": "markdown",
   "id": "168",
   "metadata": {},
   "source": [
    "We can use the associated `pixel_to_world` and `world_to_pixel` functions to transform between the world and pixel coordinates of our images."
   ]
  },
  {
   "cell_type": "code",
   "execution_count": null,
   "id": "169",
   "metadata": {},
   "outputs": [],
   "source": [
    "m_aia.wcs.pixel_to_world(0*u.pix, 0*u.pix)"
   ]
  },
  {
   "cell_type": "code",
   "execution_count": null,
   "id": "170",
   "metadata": {},
   "outputs": [],
   "source": [
    "m_aia.bottom_left_coord"
   ]
  },
  {
   "cell_type": "markdown",
   "id": "171",
   "metadata": {},
   "source": [
    "The `bottom_left_coord` is the *center* of the pixel in the bottom left corner of our image."
   ]
  },
  {
   "cell_type": "code",
   "execution_count": null,
   "id": "172",
   "metadata": {},
   "outputs": [],
   "source": [
    "m_aia.wcs.world_to_pixel(m_aia.bottom_left_coord)"
   ]
  },
  {
   "cell_type": "markdown",
   "id": "173",
   "metadata": {},
   "source": [
    "Similarly, we can confirm that the `center` coordinate falls on the center of the map."
   ]
  },
  {
   "cell_type": "code",
   "execution_count": null,
   "id": "174",
   "metadata": {},
   "outputs": [],
   "source": [
    "m_aia.center"
   ]
  },
  {
   "cell_type": "code",
   "execution_count": null,
   "id": "175",
   "metadata": {},
   "outputs": [],
   "source": [
    "m_aia.wcs.world_to_pixel(m_aia.center)"
   ]
  },
  {
   "cell_type": "code",
   "execution_count": null,
   "id": "176",
   "metadata": {},
   "outputs": [],
   "source": [
    "m_aia.dimensions"
   ]
  },
  {
   "cell_type": "markdown",
   "id": "177",
   "metadata": {},
   "source": [
    "Note that the center of our AIA image does not align with the center of the Sun!"
   ]
  },
  {
   "cell_type": "code",
   "execution_count": null,
   "id": "178",
   "metadata": {},
   "outputs": [],
   "source": [
    "m_aia.wcs.world_to_pixel(SkyCoord(Tx=0*u.arcsec, Ty=0*u.arcsec, frame=m_aia.coordinate_frame))"
   ]
  },
  {
   "cell_type": "markdown",
   "id": "179",
   "metadata": {},
   "source": [
    "<div class=\"alert alert-block alert-warning\">\n",
    "    <emph><u>EXERCISE:</u>\n",
    "    <br>\n",
    "    How would you find the position of the center of the STEREO map in the pixel coordinates of the AIA map?\n",
    "    </emph>\n",
    "</div>"
   ]
  },
  {
   "cell_type": "code",
   "execution_count": null,
   "id": "180",
   "metadata": {},
   "outputs": [],
   "source": [
    "# INSTRUCTOR BLOCK\n",
    "m_aia.wcs.world_to_pixel(m_stereo.center)"
   ]
  },
  {
   "cell_type": "markdown",
   "id": "181",
   "metadata": {},
   "source": [
    "### Visualization"
   ]
  },
  {
   "cell_type": "markdown",
   "id": "55807d13-b3d1-490e-9aca-caf1de13288e",
   "metadata": {},
   "source": [
    "`Map` provides some additional \"helpers\" for plotting the associated image data with the correct projection based on the WCS.\n",
    "\n",
    "At a minimum, this can be accomplished through the `.plot()` method.\n",
    "It is important to note that this method supports many of the same arguments as `imshow` does."
   ]
  },
  {
   "cell_type": "code",
   "execution_count": null,
   "id": "184",
   "metadata": {},
   "outputs": [],
   "source": [
    "m_aia.plot()"
   ]
  },
  {
   "cell_type": "markdown",
   "id": "185",
   "metadata": {},
   "source": [
    "This \"automagically\" creates a figure and an axis (with a projection based on the WCS of the map) and plots our map on that axis, with a colormap and normalization tailored for the specific map source.\n",
    "All of this visualization is built on top of `matplotlib` and the `WCSAxes` capabilities provided by `astropy`.\n",
    "However, as you can see, the resulting default scaling is not particularly useful.\n",
    "\n",
    "Because all of this plotting capability is built on top of `matplotlib`, we can easily customize the various components of our plot."
   ]
  },
  {
   "cell_type": "code",
   "execution_count": null,
   "id": "186",
   "metadata": {},
   "outputs": [],
   "source": [
    "plt.figure(figsize=(8, 8))\n",
    "m_aia.plot(vmin=0, vmax=500)\n",
    "m_aia.draw_grid(lw=1, alpha=1)"
   ]
  },
  {
   "cell_type": "markdown",
   "id": "187",
   "metadata": {},
   "source": [
    "While it is nice to have `matplotlib` create everything for us, it is easier to customize the plotting process if we create the figure and axis ourselves.\n",
    "This can be important when we have multiple figures within a notebook.\n",
    "\n",
    "So we will now  create a figure and axis and add the projection for the map.\n",
    "We can also easily adjust the limits on our colorbar using the `clip_interval` key."
   ]
  },
  {
   "cell_type": "code",
   "execution_count": null,
   "id": "188",
   "metadata": {},
   "outputs": [],
   "source": [
    "fig = plt.figure(figsize=(8,8))\n",
    "ax = fig.add_subplot(projection=m_aia)\n",
    "im = m_aia.plot(axes=ax, clip_interval=(5,99.9)*u.percent)\n",
    "grid = m_aia.draw_grid(axes=ax, lw=1, alpha=1)\n",
    "ax.set_title(r'A nicer AIA 304 $\\mathrm{\\AA}$ Plot')\n",
    "ax.coords[0].set_axislabel('HPC Lon')\n",
    "ax.coords[1].set_axislabel('HPC Lat')\n",
    "# This is just an example, it isn't the most useful\n",
    "grid['lon'].set_ticks([-30, -45, -60] * u.deg)\n",
    "grid['lat'].set_ticks([-45, -60, -75] * u.deg)\n",
    "fig.colorbar(im)"
   ]
  },
  {
   "cell_type": "markdown",
   "id": "189",
   "metadata": {},
   "source": [
    "Or specify a new normalization altogether"
   ]
  },
  {
   "cell_type": "code",
   "execution_count": null,
   "id": "1befeedd-ba85-408a-a727-93f84e5f1875",
   "metadata": {},
   "outputs": [],
   "source": [
    "from astropy.visualization.mpl_normalize import ImageNormalize\n",
    "from astropy.visualization import LogStretch"
   ]
  },
  {
   "cell_type": "code",
   "execution_count": null,
   "id": "190",
   "metadata": {},
   "outputs": [],
   "source": [
    "norm = ImageNormalize(vmin=0, vmax=50, stretch=LogStretch())"
   ]
  },
  {
   "cell_type": "code",
   "execution_count": null,
   "id": "191",
   "metadata": {},
   "outputs": [],
   "source": [
    "fig = plt.figure(figsize=(8,8))\n",
    "ax = fig.add_subplot(projection=m_aia)\n",
    "m_aia.plot(axes=ax,norm=norm)"
   ]
  },
  {
   "cell_type": "markdown",
   "id": "192",
   "metadata": {},
   "source": [
    "<div class=\"alert alert-block alert-warning\">\n",
    "    <emph><u>EXERCISE:</u> <br>How would I change the colormap for the above plot?</emph>\n",
    "</div>"
   ]
  },
  {
   "cell_type": "code",
   "execution_count": null,
   "id": "193",
   "metadata": {},
   "outputs": [],
   "source": [
    "# INSTRUCTOR BLOCK\n",
    "fig = plt.figure(figsize=(8,8))\n",
    "ax = fig.add_subplot(projection=m_aia)\n",
    "m_aia.plot(axes=ax,norm=norm, cmap='jet')"
   ]
  },
  {
   "cell_type": "markdown",
   "id": "194",
   "metadata": {},
   "source": [
    "Using `matplotlib` combined with `WCSAxes`, we can build more complex, publication-quality visualizations.\n",
    "\n",
    "(**NOTE:** It is not necessary to fully understand every intricacy of the plotting code below during the course of the tutorial. This is merely to show how `Map.plot` can be be used to make more complex plots.)"
   ]
  },
  {
   "cell_type": "code",
   "execution_count": null,
   "id": "195",
   "metadata": {},
   "outputs": [],
   "source": [
    "# Leave this code here\n",
    "from mpl_toolkits.axes_grid1.axes_divider import make_axes_locatable\n",
    "import numpy as np\n",
    "\n",
    "fig = plt.figure(figsize=(20,10))\n",
    "\n",
    "for i, m in enumerate([m_aia, m_stereo]):\n",
    "    # Create the axis with the appropriate projection\n",
    "    ax = fig.add_subplot(1,3,i+1,projection=m)\n",
    "\n",
    "    # Add the plot to the axis\n",
    "    im = m.plot(axes=ax, annotate=False, clip_interval=(1,99.9)*u.percent)\n",
    "\n",
    "    # Make the HPC grid lines visible\n",
    "    ax.coords.grid(alpha=1, ls='-')\n",
    "\n",
    "    # Adjust the labels and ticks\n",
    "    if i > 0:\n",
    "        ax.coords[1].set_auto_axislabel(False)\n",
    "    else:\n",
    "        ax.coords[1].set_axislabel('Solar-Y')\n",
    "    ax.coords[0].set_axislabel('Solar-X')\n",
    "    ax.coords[1].set_ticklabel(rotation=90,)\n",
    "\n",
    "    # Put a label on each plot\n",
    "    ax.text(m.data.shape[1]//2, m.data.shape[0]*.97, m.observatory,\n",
    "            color='w',\n",
    "            horizontalalignment='center',\n",
    "            verticalalignment='top',\n",
    "            fontsize=14)\n",
    "\n",
    "    # Add a colorbar to the top of each plot\n",
    "    divider = make_axes_locatable(ax)\n",
    "    cax = divider.append_axes('top', size='4%', pad=0.2, axes_class=plt.Axes)\n",
    "    fig.colorbar(im, cax=cax, orientation='horizontal')\n",
    "\n",
    "    cax.xaxis.set_ticks_position(\"top\")\n",
    "    cax.xaxis.set_tick_params(direction='in')\n",
    "\n",
    "plt.subplots_adjust(wspace=0.1)"
   ]
  },
  {
   "cell_type": "markdown",
   "id": "c3a02d98-5957-417d-8fa7-7cb6cfa806de",
   "metadata": {},
   "source": [
    "#### Overplotting Coordinates on a `Map`"
   ]
  },
  {
   "cell_type": "markdown",
   "id": "b41cd183-b64f-4cfc-8ddb-2fd97d0405fe",
   "metadata": {},
   "source": [
    "Let's use our newfound knowledge of coordinates to plot the positions of the detected flares around the time we know that the CME initiated.\n",
    "To find the metadata for any flares that were detected at this time, we'll again use `Fido` to query the Heliophysics Event Knowledgebase (HEK).\n",
    "\n",
    "> The Heliophysics Events Knowledgebase (HEK) system is being developed to help solar and heliospheric researchers locate features and events of interest to their science topics.\n",
    "\n",
    "This can be done by using the HEK client specific attributes `a.hek.attrs`.\n",
    "We'll choose only flare events who have a GOES class above C2.5"
   ]
  },
  {
   "cell_type": "code",
   "execution_count": null,
   "id": "146",
   "metadata": {},
   "outputs": [],
   "source": [
    "hek_result = Fido.search(\n",
    "    a.Time(cme_start, cme_end),\n",
    "    a.hek.EventType('FL'),\n",
    "    a.hek.FL.GOESCls > 'C2.5'\n",
    ")"
   ]
  },
  {
   "cell_type": "markdown",
   "id": "a53b9722-202d-446e-80c3-9eea2b010a04",
   "metadata": {},
   "source": [
    "The HEK keeps track of a lot of information for each event in the database."
   ]
  },
  {
   "cell_type": "code",
   "execution_count": null,
   "id": "148",
   "metadata": {},
   "outputs": [],
   "source": [
    "hek_result['hek']"
   ]
  },
  {
   "cell_type": "markdown",
   "id": "7e05e54c-4274-4ffd-97ee-835e85fcb05c",
   "metadata": {},
   "source": [
    "Let's filter this down to the start, end, and peak times of the flare, the GOES classification, and the coordinates of the flare on the disk."
   ]
  },
  {
   "cell_type": "code",
   "execution_count": null,
   "id": "150",
   "metadata": {},
   "outputs": [],
   "source": [
    "flare_table = hek_result['hek'][\n",
    "    'event_starttime',\n",
    "    'event_peaktime',\n",
    "    'event_endtime',\n",
    "    'fl_goescls',\n",
    "    'hpc_x',\n",
    "    'hpc_y',\n",
    "]"
   ]
  },
  {
   "cell_type": "code",
   "execution_count": null,
   "id": "151",
   "metadata": {},
   "outputs": [],
   "source": [
    "flare_table"
   ]
  },
  {
   "cell_type": "markdown",
   "id": "f030df7a-540a-4fcb-a841-658966b19b7c",
   "metadata": {},
   "source": [
    "To further understand whether these flares in the HEK database correspond to the observed CME, we can plot the positions of the flares that occurred near the start of our observing interval on our AIA image.\n",
    "We'll do this by first constructing a coordinate for each flare using the HPC positions returned by the HEK.\n",
    "Though not explicitly stated here, these coordinates are computed assuming an Earth-based observer at the start time of the event.\n",
    "We can get a `SkyCoord` denoting the position of Earth using the `sunpy.coordinates.get_earth` function."
   ]
  },
  {
   "cell_type": "code",
   "execution_count": null,
   "id": "ce84b719-6399-499c-8998-a52f7cc99a6f",
   "metadata": {},
   "outputs": [],
   "source": [
    "from sunpy.coordinates import get_earth"
   ]
  },
  {
   "cell_type": "code",
   "execution_count": null,
   "id": "153",
   "metadata": {},
   "outputs": [],
   "source": [
    "# Leave this code here\n",
    "flare_coords = []\n",
    "for fl in flare_table:\n",
    "    earth = get_earth(fl['event_starttime'])\n",
    "    hpc_frame = Helioprojective(obstime=fl['event_starttime'], observer=earth)\n",
    "    hpc_coord = SkyCoord(Tx=fl['hpc_x']*u.arcsec, Ty=fl['hpc_y']*u.arcsec, frame=hpc_frame)\n",
    "    flare_coords.append(hpc_coord)"
   ]
  },
  {
   "cell_type": "markdown",
   "id": "5349c823-4a95-428c-8fbe-479c9edcf201",
   "metadata": {},
   "source": [
    "Finally, let's overplot these coordinates on our AIA and EUVI images.\n",
    "The `plot_coord` command takes in a `SkyCoord` object and automatically transforms the coordinate to the coordinate system defined by the WCS on that axis."
   ]
  },
  {
   "cell_type": "code",
   "execution_count": null,
   "id": "155",
   "metadata": {},
   "outputs": [],
   "source": [
    "# Leave this code here\n",
    "fig = plt.figure(figsize=(15,7.5))\n",
    "for i,m in enumerate([m_aia, m_stereo]):\n",
    "    ax = fig.add_subplot(1,2,i+1, projection=m)\n",
    "    m.plot(axes=ax,clip_interval=(25,99.5)*u.percent)\n",
    "    for fl in flare_coords:\n",
    "        ax.plot_coord(fl, marker='X', color='C0', markersize=15)"
   ]
  },
  {
   "cell_type": "markdown",
   "id": "5dfc4f30-6ae1-42b2-8992-c08d248157c3",
   "metadata": {},
   "source": [
    "We find that one of the flares queried from the HEK coincides with our observed CME while the other is offset to the south."
   ]
  },
  {
   "cell_type": "markdown",
   "id": "196",
   "metadata": {},
   "source": [
    "#### Animations with `MapSequence`"
   ]
  },
  {
   "cell_type": "markdown",
   "id": "197",
   "metadata": {},
   "source": [
    "In addition, the `MapSequence` container provides a data container for holding multiple maps, e.g. when you have a sequence of maps taken at successive times.\n",
    "We can create `MapSequence` objects by passing in our list of files and the `sequence=True` keyword argument."
   ]
  },
  {
   "cell_type": "code",
   "execution_count": null,
   "id": "198",
   "metadata": {},
   "outputs": [],
   "source": [
    "stereo_seq = sunpy.map.Map(stereo_files, sequence=True)"
   ]
  },
  {
   "cell_type": "code",
   "execution_count": null,
   "id": "199",
   "metadata": {},
   "outputs": [],
   "source": [
    "stereo_seq"
   ]
  },
  {
   "cell_type": "markdown",
   "id": "200",
   "metadata": {},
   "source": [
    "The `MapSequence` can be indexed to return the individual `Map` objects at each time step.\n",
    "\n",
    "One of the most useful features of a `MapSequence` is the ability to create coordinate-aware visualizations of our stack of `Map` objects.\n",
    "To do this, we'll first create a a colormap normalization appropriate to the range of the data for every map in our stack."
   ]
  },
  {
   "cell_type": "code",
   "execution_count": null,
   "id": "201",
   "metadata": {},
   "outputs": [],
   "source": [
    "from astropy.visualization import AsymmetricPercentileInterval\n",
    "\n",
    "vmin, vmax = AsymmetricPercentileInterval(1, 99.5).get_limits(stereo_seq.as_array())\n",
    "norm = ImageNormalize(vmin=vmin, vmax=vmax, stretch=LogStretch())"
   ]
  },
  {
   "cell_type": "markdown",
   "id": "202",
   "metadata": {},
   "source": [
    "The `plot` method on our `MapSequence` object now returns an animation rather than a simple static plot."
   ]
  },
  {
   "cell_type": "code",
   "execution_count": null,
   "id": "203",
   "metadata": {},
   "outputs": [],
   "source": [
    "plt.figure(figsize=(10,10))\n",
    "stereo_ani = stereo_seq.plot(norm=norm)"
   ]
  },
  {
   "cell_type": "code",
   "execution_count": null,
   "id": "204",
   "metadata": {},
   "outputs": [],
   "source": [
    "from IPython.display import HTML\n",
    "\n",
    "HTML(stereo_ani.to_jshtml())"
   ]
  },
  {
   "cell_type": "markdown",
   "id": "205",
   "metadata": {},
   "source": [
    "### Basic Image Manipulation\n",
    "\n",
    "There are several methods on the `Map` object that provide capabilities for doing basic image manipulation in combination with the coordinate information attached to each `Map`."
   ]
  },
  {
   "cell_type": "markdown",
   "id": "cd7f54dd-eab8-4ba8-8a58-f55b7f596c05",
   "metadata": {},
   "source": [
    "#### Rotate\n",
    "\n",
    "The `.rotate` method applies a rotation in the image plane, i.e. about an axis out of the page. \n",
    "In the case where we do not specify an angle (or rotation matrix), the image will be rotated such that the world and pixel axes are aligned.\n",
    "In the case of an image in helioprojective coordinate system, this means that solar north will be aligned with the y-like pixel axis of the image."
   ]
  },
  {
   "cell_type": "code",
   "execution_count": null,
   "id": "206",
   "metadata": {},
   "outputs": [],
   "source": [
    "m_stereo_rot = m_stereo.rotate(missing=m_stereo.min())"
   ]
  },
  {
   "cell_type": "markdown",
   "id": "207",
   "metadata": {},
   "source": [
    "By default, any missing values will be filled with \"NaN\". Here, we specify `missing` as the minimum intensity value of the map."
   ]
  },
  {
   "cell_type": "code",
   "execution_count": null,
   "id": "208",
   "metadata": {},
   "outputs": [],
   "source": [
    "fig = plt.figure(figsize=(11,5), layout='constrained')\n",
    "\n",
    "ax = fig.add_subplot(121,projection=m_stereo)\n",
    "m_stereo.plot(axes=ax, vmin=800, vmax=5000)\n",
    "ax.coords.grid(alpha=1, ls='-')\n",
    "\n",
    "ax = fig.add_subplot(122,projection=m_stereo_rot)\n",
    "m_stereo_rot.plot(axes=ax, vmin=800, vmax=5000)\n",
    "ax.coords.grid(alpha=1, ls='-')"
   ]
  },
  {
   "cell_type": "markdown",
   "id": "209",
   "metadata": {},
   "source": [
    "This rotation is also reflected in the updated metadata of the rotated image."
   ]
  },
  {
   "cell_type": "code",
   "execution_count": null,
   "id": "210",
   "metadata": {},
   "outputs": [],
   "source": [
    "m_stereo.rotation_matrix"
   ]
  },
  {
   "cell_type": "code",
   "execution_count": null,
   "id": "211",
   "metadata": {},
   "outputs": [],
   "source": [
    "m_stereo_rot.rotation_matrix"
   ]
  },
  {
   "cell_type": "markdown",
   "id": "212",
   "metadata": {},
   "source": [
    "Additionally, one can also specify some arbitrary angle to rotate the image by.\n",
    "Note that this angle is relative to the current orientation of the image."
   ]
  },
  {
   "cell_type": "markdown",
   "id": "213",
   "metadata": {},
   "source": [
    "<div class=\"alert alert-block alert-warning\">\n",
    "    <emph><u>EXERCISE:</u>\n",
    "    <br>\n",
    "    How would you rotate the image such that there is exactly a 45 degree orientation between the world and pixel axes?\n",
    "    </emph>\n",
    "</div>"
   ]
  },
  {
   "cell_type": "code",
   "execution_count": null,
   "id": "214",
   "metadata": {},
   "outputs": [],
   "source": [
    "# INSTRUCTOR BLOCK\n",
    "m_stereo_45 = m_stereo.rotate(missing=m_stereo.min()).rotate(angle=45*u.degree, missing=m_stereo.min())\n",
    "\n",
    "fig = plt.figure(figsize=(5,5))\n",
    "\n",
    "ax = fig.add_subplot(projection=m_stereo_45)\n",
    "m_stereo_45.plot(axes=ax, vmin=800, vmax=5000)\n",
    "ax.coords.grid(alpha=1, ls='-')"
   ]
  },
  {
   "cell_type": "markdown",
   "id": "215",
   "metadata": {},
   "source": [
    "#### Cropping Images"
   ]
  },
  {
   "cell_type": "markdown",
   "id": "216",
   "metadata": {},
   "source": [
    "We commonly want to pare down our full field-of-view to a particular region of interest.\n",
    "With a map, we can do this using the `submap` method.\n",
    "We can specify the region of our submap using world coordinates as specified by a `SkyCoord`.\n",
    "We will specify these coordinates in Heliographic Stonyhurst (HGS) coordinates.\n",
    "From the animation of the STEREO data above, we can identify approximately where the CME was launched from and crop our image around that region."
   ]
  },
  {
   "cell_type": "code",
   "execution_count": null,
   "id": "217",
   "metadata": {},
   "outputs": [],
   "source": [
    "bottom_left = SkyCoord(lon=-20*u.deg, lat=-5*u.deg, radius=1*sunpy.sun.constants.radius,\n",
    "                       frame='heliographic_stonyhurst', obstime=m_aia.date)\n",
    "top_right = SkyCoord(lon=30*u.deg, lat=35*u.deg, radius=1*sunpy.sun.constants.radius,\n",
    "                     frame='heliographic_stonyhurst', obstime=m_aia.date)"
   ]
  },
  {
   "cell_type": "code",
   "execution_count": null,
   "id": "218",
   "metadata": {},
   "outputs": [],
   "source": [
    "m_stereo_cropped = m_stereo.submap(bottom_left, top_right=top_right)"
   ]
  },
  {
   "cell_type": "code",
   "execution_count": null,
   "id": "219",
   "metadata": {},
   "outputs": [],
   "source": [
    "m_stereo_cropped"
   ]
  },
  {
   "cell_type": "markdown",
   "id": "220",
   "metadata": {},
   "source": [
    "The coordinates for our cutout can also be specified in pixel coordinates."
   ]
  },
  {
   "cell_type": "markdown",
   "id": "221",
   "metadata": {},
   "source": [
    "<div class=\"alert alert-block alert-warning\">\n",
    "    <emph><u>EXERCISE:</u> <br>The coordinates for our cutout can also be specified in pixel coordinates. Find the corners of our cutout in pixel coordinates and then create the same submap using those pixel coordinates.\n",
    "</emph>\n",
    "</div>"
   ]
  },
  {
   "cell_type": "code",
   "execution_count": null,
   "id": "222",
   "metadata": {},
   "outputs": [],
   "source": [
    "# INSTRUCTOR BLOCK\n",
    "bl_pix = m_stereo.wcs.world_to_pixel(m_stereo_cropped.bottom_left_coord)\n",
    "tr_pix = m_stereo.wcs.world_to_pixel(m_stereo_cropped.top_right_coord)\n",
    "m_stereo.submap(bl_pix*u.pixel, top_right=tr_pix*u.pixel)"
   ]
  },
  {
   "cell_type": "markdown",
   "id": "223",
   "metadata": {},
   "source": [
    "## Part 3 - The `Timeseries` Data Structure"
   ]
  },
  {
   "cell_type": "markdown",
   "id": "224",
   "metadata": {},
   "source": [
    "In addition to `Map` for 2D image data, `sunpy` also provides a container for tabular time series data through the `TimeSeries` class.\n",
    "We can create a `TimeSeries` object in a very similar manner to how we create a `Map` object.\n",
    "\n",
    "Let's look at the corresponding GOES XRS data that we downloaded above."
   ]
  },
  {
   "cell_type": "code",
   "execution_count": null,
   "id": "225",
   "metadata": {},
   "outputs": [],
   "source": [
    "goes_files = sorted((DATA_DIR / 'data/XRS/').glob('*.nc'))"
   ]
  },
  {
   "cell_type": "code",
   "execution_count": null,
   "id": "567e6a3a-9b05-417a-b51a-4ac7cc6bc565",
   "metadata": {},
   "outputs": [],
   "source": [
    "import sunpy.timeseries"
   ]
  },
  {
   "cell_type": "code",
   "execution_count": null,
   "id": "226",
   "metadata": {},
   "outputs": [],
   "source": [
    "ts = sunpy.timeseries.TimeSeries(goes_files)"
   ]
  },
  {
   "cell_type": "code",
   "execution_count": null,
   "id": "227",
   "metadata": {},
   "outputs": [],
   "source": [
    "ts"
   ]
  },
  {
   "cell_type": "markdown",
   "id": "228",
   "metadata": {},
   "source": [
    "As with `Map`, `TimeSeries` acts as a container for the data + metadata. We can access each component individually."
   ]
  },
  {
   "cell_type": "code",
   "execution_count": null,
   "id": "229",
   "metadata": {},
   "outputs": [],
   "source": [
    "ts.meta"
   ]
  },
  {
   "cell_type": "markdown",
   "id": "230",
   "metadata": {},
   "source": [
    "The `TimeSeries` object can also be converted to other formats like an `astropy` `Table` object"
   ]
  },
  {
   "cell_type": "code",
   "execution_count": null,
   "id": "231",
   "metadata": {},
   "outputs": [],
   "source": [
    "ts.to_table()"
   ]
  },
  {
   "cell_type": "markdown",
   "id": "232",
   "metadata": {},
   "source": [
    "or a `pandas` `DataFrame`"
   ]
  },
  {
   "cell_type": "code",
   "execution_count": null,
   "id": "233",
   "metadata": {},
   "outputs": [],
   "source": [
    "ts.to_dataframe()"
   ]
  },
  {
   "cell_type": "markdown",
   "id": "234",
   "metadata": {},
   "source": [
    "There are also a number of attributes on each `TimeSeries` derived from the data/metadata."
   ]
  },
  {
   "cell_type": "code",
   "execution_count": null,
   "id": "235",
   "metadata": {},
   "outputs": [],
   "source": [
    "ts.columns"
   ]
  },
  {
   "cell_type": "code",
   "execution_count": null,
   "id": "236",
   "metadata": {},
   "outputs": [],
   "source": [
    "ts.observatory"
   ]
  },
  {
   "cell_type": "code",
   "execution_count": null,
   "id": "237",
   "metadata": {},
   "outputs": [],
   "source": [
    "ts.units"
   ]
  },
  {
   "cell_type": "markdown",
   "id": "238",
   "metadata": {},
   "source": [
    "### Slicing and Visualizing `TimeSeries`"
   ]
  },
  {
   "cell_type": "markdown",
   "id": "239",
   "metadata": {},
   "source": [
    "Note that this intensity `TimeSeries` spans 24 h of observation time and recall that we are only interested in the ~3 h interval in which the CME is visible in the 304 channel.\n",
    "\n",
    "We can truncate our timeseries around the times of interest.\n",
    "To do this, we can actually use the `date` property on our first and last EUI map from our sequence."
   ]
  },
  {
   "cell_type": "code",
   "execution_count": null,
   "id": "9be39f71-fc7b-427c-92c2-c58a97aa9971",
   "metadata": {},
   "outputs": [],
   "source": [
    "from sunpy.time import TimeRange"
   ]
  },
  {
   "cell_type": "code",
   "execution_count": null,
   "id": "240",
   "metadata": {},
   "outputs": [],
   "source": [
    "ts_cme = ts.truncate(TimeRange(stereo_seq[0].date, b=stereo_seq[-1].date))"
   ]
  },
  {
   "cell_type": "markdown",
   "id": "241",
   "metadata": {},
   "source": [
    "And then do a quicklook on our lightcurve."
   ]
  },
  {
   "cell_type": "code",
   "execution_count": null,
   "id": "242",
   "metadata": {},
   "outputs": [],
   "source": [
    "ts_cme"
   ]
  },
  {
   "cell_type": "markdown",
   "id": "243",
   "metadata": {},
   "source": [
    "As expected, we find that there is a flare occurring right around the time the CME occurs. This should not be surprising as we saw from the AIA data that the CME was Earth-directed such that GOES was well-position to observed the flare."
   ]
  },
  {
   "cell_type": "markdown",
   "id": "244",
   "metadata": {},
   "source": [
    "We can also zoom in a bit on the beginning of the flare."
   ]
  },
  {
   "cell_type": "code",
   "execution_count": null,
   "id": "245",
   "metadata": {},
   "outputs": [],
   "source": [
    "fig = plt.figure()\n",
    "ax = fig.add_subplot(111)\n",
    "ts_cme.plot(axes=ax)\n",
    "ax.set_xlim('2022-03-28 11:00', '2022-03-28 11:30')"
   ]
  },
  {
   "cell_type": "markdown",
   "id": "602ccacf-d114-42a0-8e55-ce71a88a8e3a",
   "metadata": {},
   "source": [
    "As expected, we find that the flare, as detected by GOES, begins just before the eruption is seen by STEREO at 11:20."
   ]
  },
  {
   "cell_type": "markdown",
   "id": "246",
   "metadata": {
    "tags": []
   },
   "source": [
    "### Combining GOES and HEK \n",
    "\n",
    "Additionally, let's load back in our GOES XRS timeseries over the entire time interval of interest.\n",
    "Let's plot the times of the flares on top of our untruncated timeseries.\n",
    "We'll indicate each flare with a shaded blue region and our original time interval of interest that we used to query our imaging observations with orange."
   ]
  },
  {
   "cell_type": "code",
   "execution_count": null,
   "id": "247",
   "metadata": {},
   "outputs": [],
   "source": [
    "fig = plt.figure(figsize=(8,5))\n",
    "ax = fig.add_subplot(111)\n",
    "ts.plot(axes=ax)\n",
    "ax.axvspan(cme_start, cme_end, alpha=0.25, color='C1')\n",
    "for fl in flare_table:\n",
    "    ax.axvspan(fl['event_starttime'].iso, fl['event_endtime'].iso,\n",
    "               color='C0', alpha=0.25)"
   ]
  },
  {
   "cell_type": "markdown",
   "id": "4e76e5da-9b06-4155-8580-c6ab1f89ebf0",
   "metadata": {},
   "source": [
    "## Conclusion"
   ]
  },
  {
   "cell_type": "markdown",
   "id": "66b305f4-8a0a-4071-8fd8-697d028bd654",
   "metadata": {},
   "source": [
    "In this notebook, we've learned how to use `sunpy`, including functionality from `astropy`, to search for, download, load and manipulate both 2D image as well as time series data. In particular, we learned how to:\n",
    "\n",
    "- Create and manipulate unitful quantities with `astropy.units`\n",
    "- Create and do basic arithmetic with `astropy.time.Time` objects \n",
    "- Search for data from many different data providers with `sunpy`\n",
    "- Load, manipulate, and visualize 2D images data with `sunpy.map.Map`\n",
    "- Do basic coordinate tranformations with the `astropy.coordinates` framework, include solar coordinate frames\n",
    "- Create and visualize time series data with `sunpy.timeseries.TimeSeries`\n",
    "\n",
    "Many more examples of how to use `sunpy` to accomplish these and other similar tasks can be found in the [`sunpy` example gallery](https://docs.sunpy.org/en/stable/generated/gallery/)."
   ]
  },
  {
   "cell_type": "code",
   "execution_count": null,
   "id": "7c0924d2-a71c-4d10-9cb9-65aa193249a5",
   "metadata": {},
   "outputs": [],
   "source": []
  }
 ],
 "metadata": {
  "kernelspec": {
   "display_name": "Python [conda env:b833245e447c6a175d1e4c3f751e5c33_]",
   "language": "python",
   "name": "conda-env-b833245e447c6a175d1e4c3f751e5c33_-py"
  },
  "language_info": {
   "codemirror_mode": {
    "name": "ipython",
    "version": 3
   },
   "file_extension": ".py",
   "mimetype": "text/x-python",
   "name": "python",
   "nbconvert_exporter": "python",
   "pygments_lexer": "ipython3",
   "version": "3.9.16"
  },
  "toc-autonumbering": false,
  "toc-showcode": false
 },
 "nbformat": 4,
 "nbformat_minor": 5
}
